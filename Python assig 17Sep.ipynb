{
 "cells": [
  {
   "cell_type": "code",
   "execution_count": null,
   "id": "4035850e-8d33-44bb-a66d-ed1082d5250d",
   "metadata": {},
   "outputs": [],
   "source": [
    "For Loop :-"
   ]
  },
  {
   "cell_type": "code",
   "execution_count": null,
   "id": "e2f9c662-fc4b-436f-a47a-55eca564831e",
   "metadata": {},
   "outputs": [],
   "source": [
    "1.Write a Python program to print numbers from 1 to 10 using a for loop."
   ]
  },
  {
   "cell_type": "code",
   "execution_count": 3,
   "id": "13c143c4-4a95-4d57-84cb-da12327c42b1",
   "metadata": {},
   "outputs": [
    {
     "name": "stdout",
     "output_type": "stream",
     "text": [
      "[1, 2, 3, 4, 5, 6, 7, 8, 9, 10]\n"
     ]
    }
   ],
   "source": [
    "print(list(i for i in range (1,11)))"
   ]
  },
  {
   "cell_type": "code",
   "execution_count": null,
   "id": "b00dc02d-90bf-49ec-a803-417d513de9a6",
   "metadata": {},
   "outputs": [],
   "source": [
    "2.Explain the difference between a for loop and a while loop in Python."
   ]
  },
  {
   "cell_type": "code",
   "execution_count": 4,
   "id": "d75b5c6c-4c8a-4a18-b5e8-db7b758c68b3",
   "metadata": {},
   "outputs": [
    {
     "name": "stdout",
     "output_type": "stream",
     "text": [
      "Ali raza\n",
      "Ali raza\n",
      "Ali raza\n",
      "Ali raza\n",
      "Ali raza\n"
     ]
    }
   ],
   "source": [
    "# for loop is used when we know the number of itration. such as Prin your name 5 times.\n",
    "for i in range(1,6):\n",
    "    print(\"Ali raza\")\n",
    "    "
   ]
  },
  {
   "cell_type": "code",
   "execution_count": 5,
   "id": "62459a1a-5fad-49fb-abe2-afcc246daf9f",
   "metadata": {},
   "outputs": [
    {
     "name": "stdout",
     "output_type": "stream",
     "text": [
      "0\n",
      "1\n",
      "2\n",
      "3\n",
      "4\n",
      "5\n",
      "6\n",
      "7\n"
     ]
    }
   ],
   "source": [
    "# while loop is used when number of itration is depend on the condition,it will itrate untill condation \n",
    "# is true such as print your name untill\n",
    "count=0\n",
    "while count<=7:\n",
    "    print(count)\n",
    "    count=count+1"
   ]
  },
  {
   "cell_type": "code",
   "execution_count": null,
   "id": "10bba2a6-57e6-48fc-ac57-b80a5c2ade97",
   "metadata": {},
   "outputs": [],
   "source": [
    "3.Write a Python program to calculate the sum of all numbers from 1 to 100 using a for loop."
   ]
  },
  {
   "cell_type": "code",
   "execution_count": 7,
   "id": "a25c34db-fa8e-4f60-bd61-79288363469b",
   "metadata": {},
   "outputs": [
    {
     "name": "stdout",
     "output_type": "stream",
     "text": [
      "5050\n"
     ]
    }
   ],
   "source": [
    "x=sum(list(x for x in range(1,101)))\n",
    "print(x)"
   ]
  },
  {
   "cell_type": "code",
   "execution_count": null,
   "id": "5c5ea7c1-2343-45d8-987c-169265f331c9",
   "metadata": {},
   "outputs": [],
   "source": [
    "4.How do you iterate through a list using a for loop in Python?"
   ]
  },
  {
   "cell_type": "code",
   "execution_count": 9,
   "id": "7178f9de-b687-4aae-83f3-71f6f4d92dfc",
   "metadata": {},
   "outputs": [
    {
     "name": "stdout",
     "output_type": "stream",
     "text": [
      "ali\n",
      "raza\n",
      "rizwan\n",
      "1\n",
      "2\n",
      "3\n",
      "four\n"
     ]
    }
   ],
   "source": [
    "lst=[\"ali\",\"raza\",\"rizwan\",1,2,3,\"four\"]\n",
    "for x in lst:\n",
    "    print(x)"
   ]
  },
  {
   "cell_type": "code",
   "execution_count": null,
   "id": "40fb634f-6cae-4800-8f24-a0b567db4076",
   "metadata": {},
   "outputs": [],
   "source": [
    "5.Write a Python program to find the product of all elements in a list using a for loop.\n"
   ]
  },
  {
   "cell_type": "code",
   "execution_count": 10,
   "id": "79c59d8f-7e53-4556-80a8-48e4ad545b1e",
   "metadata": {},
   "outputs": [
    {
     "name": "stdout",
     "output_type": "stream",
     "text": [
      "362880\n"
     ]
    }
   ],
   "source": [
    "lst=[1,2,3,4,5,6,7,8,9]\n",
    "product=1\n",
    "for x in lst:\n",
    "    product=product*x\n",
    "print(product)"
   ]
  },
  {
   "cell_type": "code",
   "execution_count": null,
   "id": "f70ab18d-1dfe-4913-84e3-09b99a6c336e",
   "metadata": {},
   "outputs": [],
   "source": [
    "6.Create a Python program that prints all even numbers from 1 to 20 using a for loop."
   ]
  },
  {
   "cell_type": "code",
   "execution_count": 11,
   "id": "dca32db5-5a43-4446-8bba-41b4910860e0",
   "metadata": {},
   "outputs": [
    {
     "name": "stdout",
     "output_type": "stream",
     "text": [
      "[2, 4, 6, 8]\n"
     ]
    }
   ],
   "source": [
    "lst=[1,2,3,4,5,6,7,8,9]\n",
    "even_num=[x for x in lst if x%2==0]\n",
    "print(even_num)"
   ]
  },
  {
   "cell_type": "code",
   "execution_count": null,
   "id": "aaed5b23-87bf-417c-b00a-ec0435ba8c5f",
   "metadata": {},
   "outputs": [],
   "source": [
    "7.Write a Python program that calculates the factorial of a number using a for loop."
   ]
  },
  {
   "cell_type": "code",
   "execution_count": 13,
   "id": "127a5448-112d-48a7-919e-9212af4594bc",
   "metadata": {},
   "outputs": [
    {
     "name": "stdout",
     "output_type": "stream",
     "text": [
      "120\n"
     ]
    }
   ],
   "source": [
    "num=5\n",
    "result=1\n",
    "for i in range(1,num+1):\n",
    "    result=result*i\n",
    "print(result)"
   ]
  },
  {
   "cell_type": "code",
   "execution_count": null,
   "id": "940ed7be-3785-4f19-9ed5-8cdf94264532",
   "metadata": {},
   "outputs": [],
   "source": [
    "8.How can you iterate through the characters of a string using a for loop in Python?"
   ]
  },
  {
   "cell_type": "code",
   "execution_count": 16,
   "id": "e40fc7e4-c055-4e27-b622-204694109d12",
   "metadata": {},
   "outputs": [
    {
     "name": "stdout",
     "output_type": "stream",
     "text": [
      "A\n",
      "l\n",
      "i\n",
      "r\n",
      "a\n",
      "z\n",
      "a\n"
     ]
    }
   ],
   "source": [
    "s=\"Aliraza\"\n",
    "for i in s:\n",
    "    print(i)"
   ]
  },
  {
   "cell_type": "code",
   "execution_count": null,
   "id": "7d817ce9-66d8-439c-b2e1-fc7915b6997e",
   "metadata": {},
   "outputs": [],
   "source": [
    "9.Write a Python program to find the largest number in a list using a for loop."
   ]
  },
  {
   "cell_type": "code",
   "execution_count": 22,
   "id": "4e738e55-2ff7-4e3f-a5f6-a59895c09204",
   "metadata": {},
   "outputs": [
    {
     "name": "stdout",
     "output_type": "stream",
     "text": [
      "9\n"
     ]
    }
   ],
   "source": [
    "lst=[1,2,3,4,5,6,7,8,9]\n",
    "for i in lst:\n",
    "    if i== max(lst):\n",
    "        print(i)\n",
    "        break"
   ]
  },
  {
   "cell_type": "code",
   "execution_count": null,
   "id": "92f89270-58c4-4ebb-a077-c0815e43dc06",
   "metadata": {},
   "outputs": [],
   "source": [
    "10.Create a Python program that prints the Fibonacci sequence up to a specified limit using a for loop."
   ]
  },
  {
   "cell_type": "code",
   "execution_count": 32,
   "id": "3b2834c7-0250-46e2-bccf-f53c06ee494d",
   "metadata": {},
   "outputs": [
    {
     "name": "stdout",
     "output_type": "stream",
     "text": [
      "[0, 1, 1, 2, 3, 5, 8, 13, 21, 34]\n"
     ]
    }
   ],
   "source": [
    "lst=[]\n",
    "a,b=0,1\n",
    "limit=45\n",
    "lst.append(a)\n",
    "for i in range(limit):\n",
    "    if b>=limit:\n",
    "        break\n",
    "    lst.append(b)\n",
    "    a,b=b,a+b\n",
    "print(lst)"
   ]
  },
  {
   "cell_type": "code",
   "execution_count": null,
   "id": "8371c3da-2131-4212-901b-f621333ba926",
   "metadata": {},
   "outputs": [],
   "source": [
    "11.Write a Python program to count the number of vowels in a given string using a for loop."
   ]
  },
  {
   "cell_type": "code",
   "execution_count": 36,
   "id": "e8b530b6-1682-49e6-b738-eae4d5cf68ab",
   "metadata": {},
   "outputs": [
    {
     "name": "stdout",
     "output_type": "stream",
     "text": [
      "4\n"
     ]
    }
   ],
   "source": [
    "s=\"Aliraza\"\n",
    "count=0\n",
    "for x in s:\n",
    "    if x in \"aeiouAEIOU\":\n",
    "        count=count+1\n",
    "print(count)"
   ]
  },
  {
   "cell_type": "code",
   "execution_count": null,
   "id": "de6f1278-0bb6-4237-b626-7e284492d15e",
   "metadata": {},
   "outputs": [],
   "source": [
    "12.Create a Python program that generates a multiplication table for a given number using a for loop."
   ]
  },
  {
   "cell_type": "code",
   "execution_count": 39,
   "id": "f99364b0-6c42-4624-819b-1c52216c0716",
   "metadata": {},
   "outputs": [
    {
     "name": "stdout",
     "output_type": "stream",
     "text": [
      "(7, 14, 21, 28, 35, 42, 49, 56, 63, 70)\n"
     ]
    }
   ],
   "source": [
    "num=7\n",
    "result=tuple(num*x for x in range(1,11))\n",
    "print(result)"
   ]
  },
  {
   "cell_type": "code",
   "execution_count": null,
   "id": "055dfc2a-3aa7-475a-82db-83a9d925b6d5",
   "metadata": {},
   "outputs": [],
   "source": [
    "13.Write a Python program to reverse a list using a for loop."
   ]
  },
  {
   "cell_type": "code",
   "execution_count": 12,
   "id": "b1c11117-7247-4859-8fca-1f282352db21",
   "metadata": {},
   "outputs": [
    {
     "name": "stdout",
     "output_type": "stream",
     "text": [
      "[70, 63, 56, 49, 42, 35, 28, 21, 14, 7]\n"
     ]
    }
   ],
   "source": [
    "s=[7, 14, 21, 28, 35, 42, 49, 56, 63, 70]\n",
    "result=[]\n",
    "num=len(s)\n",
    "for i in range(num - 1, -1, -1):\n",
    "    result.append(s[i])\n",
    "print(result)"
   ]
  },
  {
   "cell_type": "code",
   "execution_count": null,
   "id": "fbe34124-347c-4001-a9cc-579a72352a62",
   "metadata": {},
   "outputs": [],
   "source": [
    "14.Write a Python program to find the common elements between two lists using a for loop."
   ]
  },
  {
   "cell_type": "code",
   "execution_count": 14,
   "id": "993e1a3d-a3d3-444f-a3f4-d41d0d03b079",
   "metadata": {},
   "outputs": [
    {
     "name": "stdout",
     "output_type": "stream",
     "text": [
      "[1, 4, 7, 9]\n"
     ]
    }
   ],
   "source": [
    "lst1=[1,2,4,7,5,9,6]\n",
    "lst2=[3,1,4,7,10,11,9]\n",
    "result=[ x for x in lst1 if x in lst2]\n",
    "print(result)"
   ]
  },
  {
   "cell_type": "code",
   "execution_count": null,
   "id": "d88b5511-44da-47ee-93fd-d70208d38da2",
   "metadata": {},
   "outputs": [],
   "source": [
    "15.Explain how to use a for loop to iterate through the keys and values of a dictionary in Python."
   ]
  },
  {
   "cell_type": "code",
   "execution_count": 16,
   "id": "5a5d91d7-5a42-43e7-b5c8-49e07bcf45f3",
   "metadata": {},
   "outputs": [
    {
     "name": "stdout",
     "output_type": "stream",
     "text": [
      "Key: name, Value: Alice\n",
      "Key: age, Value: 30\n",
      "Key: city, Value: New York\n"
     ]
    }
   ],
   "source": [
    "# Define a dictionary\n",
    "my_dict = {\n",
    "    'name': 'Alice',\n",
    "    'age': 30,\n",
    "    'city': 'New York'\n",
    "}\n",
    "\n",
    "# Iterate through the dictionary using a for loop\n",
    "for key, value in my_dict.items():\n",
    "    print(f\"Key: {key}, Value: {value}\")\n"
   ]
  },
  {
   "cell_type": "code",
   "execution_count": null,
   "id": "4c8aabe3-9857-47cb-9fce-b136f5695a54",
   "metadata": {},
   "outputs": [],
   "source": [
    "16.Write a Python program to find the GCD (Greatest Common Divisor) of two numbers using a for loop."
   ]
  },
  {
   "cell_type": "code",
   "execution_count": 17,
   "id": "75365777-6c0f-4981-b677-385d790d6c73",
   "metadata": {},
   "outputs": [
    {
     "name": "stdout",
     "output_type": "stream",
     "text": [
      "The GCD of 48 and 18 is 6\n"
     ]
    }
   ],
   "source": [
    "# Define the two numbers\n",
    "num1 = 48\n",
    "num2 = 18\n",
    "\n",
    "# Initialize gcd to 1 (smallest possible GCD)\n",
    "gcd = 1\n",
    "\n",
    "# Find the smaller number to limit the loop range\n",
    "min_num = min(num1, num2)\n",
    "\n",
    "# Loop from 1 to the smaller number\n",
    "for i in range(1, min_num + 1):\n",
    "    if num1 % i == 0 and num2 % i == 0:\n",
    "        gcd = i\n",
    "\n",
    "# Print the GCD\n",
    "print(f\"The GCD of {num1} and {num2} is {gcd}\")\n"
   ]
  },
  {
   "cell_type": "code",
   "execution_count": null,
   "id": "34d7d581-857b-42c3-b604-bb689a8770cf",
   "metadata": {},
   "outputs": [],
   "source": [
    "17.Create a Python program that checks if a string is a palindrome using a for loop."
   ]
  },
  {
   "cell_type": "code",
   "execution_count": 18,
   "id": "eba3f300-a4b1-4fd9-83e5-a52597f11dec",
   "metadata": {},
   "outputs": [
    {
     "name": "stdout",
     "output_type": "stream",
     "text": [
      "\"madam\" is a palindrome.\n"
     ]
    }
   ],
   "source": [
    "# Define the string\n",
    "input_string = \"madam\"\n",
    "\n",
    "# Remove spaces and convert to lowercase for consistent comparison\n",
    "clean_string = input_string.replace(\" \", \"\").lower()\n",
    "\n",
    "# Initialize a flag variable to True\n",
    "is_palindrome = True\n",
    "\n",
    "# Get the length of the string\n",
    "length = len(clean_string)\n",
    "\n",
    "# Loop through half of the string\n",
    "for i in range(length // 2):\n",
    "    if clean_string[i] != clean_string[length - i - 1]:\n",
    "        is_palindrome = False\n",
    "        break\n",
    "\n",
    "# Print the result\n",
    "if is_palindrome:\n",
    "    print(f'\"{input_string}\" is a palindrome.')\n",
    "else:\n",
    "    print(f'\"{input_string}\" is not a palindrome.')\n"
   ]
  },
  {
   "cell_type": "code",
   "execution_count": null,
   "id": "820a070f-7e19-4a49-a722-f3c08a6ab59a",
   "metadata": {},
   "outputs": [],
   "source": [
    "18.Write a Python program to remove duplicates from a list using a for loop."
   ]
  },
  {
   "cell_type": "code",
   "execution_count": 20,
   "id": "c0ac8b89-ebdc-4cf6-bcdc-fb6c123323a0",
   "metadata": {},
   "outputs": [
    {
     "name": "stdout",
     "output_type": "stream",
     "text": [
      "Original list: [1, 2, 3, 4, 3, 2, 1, 5, 6, 7, 8, 7, 6]\n",
      "List without duplicates: [1, 2, 3, 4, 5, 6, 7, 8]\n"
     ]
    }
   ],
   "source": [
    "# Original list with duplicates\n",
    "original_list = [1, 2, 3, 4, 3, 2, 1, 5, 6, 7, 8, 7, 6]\n",
    "unique_list = []\n",
    "for item in original_list:\n",
    "    if item not in unique_list:\n",
    "        unique_list.append(item)\n",
    "print(\"Original list:\", original_list)\n",
    "print(\"List without duplicates:\", unique_list)\n"
   ]
  },
  {
   "cell_type": "code",
   "execution_count": null,
   "id": "d60e0309-aff4-4148-9957-89eebb6b8db0",
   "metadata": {},
   "outputs": [],
   "source": [
    "19.Create a Python program that counts the number of words in a sentence using a for loop."
   ]
  },
  {
   "cell_type": "code",
   "execution_count": 21,
   "id": "d720e02f-c27a-4e8c-9a9f-dd6c973d5e26",
   "metadata": {},
   "outputs": [
    {
     "name": "stdout",
     "output_type": "stream",
     "text": [
      "The number of words in the sentence is: 11\n"
     ]
    }
   ],
   "source": [
    "# Define the sentence\n",
    "sentence = \"This is an example sentence to count the number of words.\"\n",
    "word_count = 0\n",
    "words = sentence.split()\n",
    "for word in words:\n",
    "    word_count = word_count+1\n",
    "print(\"The number of words in the sentence is:\", word_count)\n"
   ]
  },
  {
   "cell_type": "code",
   "execution_count": null,
   "id": "e3afdaef-2342-45be-a3c1-77261c437bd6",
   "metadata": {},
   "outputs": [],
   "source": [
    "20.Write a Python program to find the sum of all odd numbers from 1 to 50 using a for loop."
   ]
  },
  {
   "cell_type": "code",
   "execution_count": 24,
   "id": "af8ccc06-18ca-4c88-8b3c-a1c9bb153333",
   "metadata": {},
   "outputs": [
    {
     "name": "stdout",
     "output_type": "stream",
     "text": [
      "25\n"
     ]
    }
   ],
   "source": [
    "lst=[1,2,3,4,5,6,7,8,9]\n",
    "odd_num=[x for x in lst if x%2!=0]\n",
    "print(sum(odd_num))"
   ]
  },
  {
   "cell_type": "code",
   "execution_count": null,
   "id": "ce3182b1-9e7a-4b6a-96be-b496e88eb531",
   "metadata": {},
   "outputs": [],
   "source": [
    "21.Write a Python program that checks if a given year is a leap year using a for loop."
   ]
  },
  {
   "cell_type": "code",
   "execution_count": 26,
   "id": "f62186ed-99af-43ef-824a-6bbba28824a1",
   "metadata": {},
   "outputs": [
    {
     "name": "stdout",
     "output_type": "stream",
     "text": [
      "2000 is a leap year.\n",
      "2001 is not a leap year.\n",
      "2004 is a leap year.\n",
      "1900 is not a leap year.\n",
      "2100 is not a leap year.\n",
      "2024 is a leap year.\n"
     ]
    }
   ],
   "source": [
    "# List of years to check\n",
    "years = [2000, 2001, 2004, 1900, 2100, 2024]\n",
    "for year in years:\n",
    "    if (year % 4 == 0 and year % 100 != 0) or (year % 400 == 0):\n",
    "        print(f\"{year} is a leap year.\")\n",
    "    else:\n",
    "        print(f\"{year} is not a leap year.\")\n"
   ]
  },
  {
   "cell_type": "code",
   "execution_count": null,
   "id": "eb6456ec-dfc4-4edf-a71d-846c050d6c28",
   "metadata": {},
   "outputs": [],
   "source": [
    "22.Create a Python program that calculates the square root of a number using a for loop."
   ]
  },
  {
   "cell_type": "code",
   "execution_count": 27,
   "id": "2a3f2a93-529c-45ca-a1d7-a7e9b6f322a6",
   "metadata": {},
   "outputs": [
    {
     "name": "stdout",
     "output_type": "stream",
     "text": [
      "The square root of 25 is approximately 5.0\n"
     ]
    }
   ],
   "source": [
    "# Define the number for which to find the square root\n",
    "number = 25\n",
    "estimate = number / 2  \n",
    "iterations = 10\n",
    "for _ in range(iterations):\n",
    "    estimate = (estimate + number / estimate) / 2\n",
    "\n",
    "# Print the result\n",
    "print(f\"The square root of {number} is approximately {estimate}\")\n"
   ]
  },
  {
   "cell_type": "code",
   "execution_count": null,
   "id": "3924c4eb-287f-4e21-a0cc-f5a420ada7dd",
   "metadata": {},
   "outputs": [],
   "source": [
    "23.Write a Python program to find the LCM (Least Common Multiple) of two numbers using a for loop."
   ]
  },
  {
   "cell_type": "code",
   "execution_count": 29,
   "id": "5a972af7-b83d-4860-b3b3-9b6bd653dc2b",
   "metadata": {},
   "outputs": [
    {
     "name": "stdout",
     "output_type": "stream",
     "text": [
      "The LCM of 12 and 15 is 60\n"
     ]
    }
   ],
   "source": [
    "# Define the two numbers\n",
    "num1 = 12\n",
    "num2 = 15\n",
    "lcm = 0\n",
    "max_num = max(num1, num2)\n",
    "for i in range(max_num, num1 * num2 + 1, max_num):\n",
    "    if i % num1 == 0 and i % num2 == 0:\n",
    "        lcm = i\n",
    "        break\n",
    "\n",
    "# Print the LCM\n",
    "print(f\"The LCM of {num1} and {num2} is {lcm}\")\n"
   ]
  },
  {
   "cell_type": "code",
   "execution_count": null,
   "id": "f995aadd-805b-4df2-a79e-ed8d099dd91f",
   "metadata": {},
   "outputs": [],
   "source": []
  },
  {
   "cell_type": "code",
   "execution_count": null,
   "id": "33bc1e98-613e-4f9b-a32f-c83af04fe958",
   "metadata": {},
   "outputs": [],
   "source": [
    "If else :"
   ]
  },
  {
   "cell_type": "code",
   "execution_count": null,
   "id": "7e072688-dab1-495e-91eb-bf3ae6b72e37",
   "metadata": {},
   "outputs": [],
   "source": [
    "1.Write a Python program to check if a number is positive, negative, or zero using an if-else statement."
   ]
  },
  {
   "cell_type": "code",
   "execution_count": 30,
   "id": "174f13af-48cb-431a-a9fd-dc04daf19aab",
   "metadata": {},
   "outputs": [
    {
     "name": "stdout",
     "output_type": "stream",
     "text": [
      "Number is positive\n"
     ]
    }
   ],
   "source": [
    "num=7\n",
    "if num==0:\n",
    "    print(\"Number is zero\")\n",
    "elif num>0:\n",
    "    print(\"Number is positive\")\n",
    "else:\n",
    "    print(\"Number is negitive\")"
   ]
  },
  {
   "cell_type": "code",
   "execution_count": null,
   "id": "c6540eee-63a4-4b18-8808-30e3484bc21b",
   "metadata": {},
   "outputs": [],
   "source": [
    "2.Create a Python program that checks if a given number is even or odd using an if-else statement."
   ]
  },
  {
   "cell_type": "code",
   "execution_count": 31,
   "id": "8fcc94f8-4394-46a7-903f-932ed82a492d",
   "metadata": {},
   "outputs": [
    {
     "name": "stdout",
     "output_type": "stream",
     "text": [
      "Number is odd\n"
     ]
    }
   ],
   "source": [
    "num=7\n",
    "if num%2==0:\n",
    "    print(\"Number is Even\")\n",
    "else:\n",
    "    print(\"Number is odd\")"
   ]
  },
  {
   "cell_type": "code",
   "execution_count": null,
   "id": "b47c7279-d062-494d-979f-2833bb09dd12",
   "metadata": {},
   "outputs": [],
   "source": [
    "3.How can you use nested if-else statements in Python, and provide an example?"
   ]
  },
  {
   "cell_type": "code",
   "execution_count": 32,
   "id": "4d78b513-02e8-4f88-802a-ac60ea217554",
   "metadata": {},
   "outputs": [
    {
     "name": "stdout",
     "output_type": "stream",
     "text": [
      "Number is odd and Negitive\n"
     ]
    }
   ],
   "source": [
    "# use of if else statement within if else ststement is called nested if else\n",
    "# as example check a number is even or odd also check numer is negitive or positive\n",
    "num=-7\n",
    "if num%2==0:\n",
    "    if num>0:\n",
    "        print(\"Number is Even and positive\")\n",
    "    else:\n",
    "        print(\"Number is Even and Negitive\")\n",
    "else:\n",
    "    if num>0:\n",
    "        print(\"Number is odd and positive\")\n",
    "    else:\n",
    "        print(\"Number is odd and Negitive\")\n",
    "   "
   ]
  },
  {
   "cell_type": "code",
   "execution_count": null,
   "id": "7465c110-74a6-4bef-95a8-d320525e0181",
   "metadata": {},
   "outputs": [],
   "source": [
    "5.Write a Python program that calculates the absolute value of a number using if-else."
   ]
  },
  {
   "cell_type": "code",
   "execution_count": 33,
   "id": "0c2eb011-5672-462a-9207-18737fd1ebe5",
   "metadata": {},
   "outputs": [
    {
     "name": "stdout",
     "output_type": "stream",
     "text": [
      "The absolute value of -8 is 8.\n"
     ]
    }
   ],
   "source": [
    "number = -8\n",
    "if number < 0:\n",
    "    absolute_value = -number\n",
    "else:\n",
    "    absolute_value = number\n",
    "print(f\"The absolute value of {number} is {absolute_value}.\")\n"
   ]
  },
  {
   "cell_type": "code",
   "execution_count": null,
   "id": "8f91d8fb-cae8-4981-b6b0-1bc593d1c781",
   "metadata": {},
   "outputs": [],
   "source": [
    "6.Create a Python program that checks if a given character is a vowel or consonant using if-else."
   ]
  },
  {
   "cell_type": "code",
   "execution_count": 35,
   "id": "fabe8875-3be0-4c72-ba8d-68bbccff8ff6",
   "metadata": {},
   "outputs": [
    {
     "name": "stdout",
     "output_type": "stream",
     "text": [
      "char is consonant\n"
     ]
    }
   ],
   "source": [
    "s=\"c\"\n",
    "if s in \"aeiouAEIOU\":\n",
    "    print(\" Char is vowel\")\n",
    "else:\n",
    "    print(\"char is consonant\")"
   ]
  },
  {
   "cell_type": "code",
   "execution_count": null,
   "id": "bf37f0d7-d153-4d0e-9723-0cd60240f65a",
   "metadata": {},
   "outputs": [],
   "source": [
    "7.Write a Python program to determine if a user is eligible to vote based on their age using if-else."
   ]
  },
  {
   "cell_type": "code",
   "execution_count": 36,
   "id": "20eb513e-ffa2-49b3-8187-d4e4a183dfab",
   "metadata": {},
   "outputs": [
    {
     "name": "stdout",
     "output_type": "stream",
     "text": [
      " user is eligible to vote\n"
     ]
    }
   ],
   "source": [
    "age=25\n",
    "if age >18:\n",
    "    print(\" user is eligible to vote\")\n",
    "else:\n",
    "    print(\"user is not eligible to votet\")"
   ]
  },
  {
   "cell_type": "code",
   "execution_count": null,
   "id": "cd726c4c-c11d-49ab-b5c2-a79a0080b9ca",
   "metadata": {},
   "outputs": [],
   "source": [
    "8.Create a Python program that calculates the discount amount based on the purchase amount using if-else."
   ]
  },
  {
   "cell_type": "code",
   "execution_count": 37,
   "id": "e52c5f5b-591e-4360-9706-ebb66061d323",
   "metadata": {},
   "outputs": [
    {
     "name": "stdout",
     "output_type": "stream",
     "text": [
      "Purchase amount: $150.00\n",
      "Discount rate: 20%\n",
      "Discount amount: $30.00\n"
     ]
    }
   ],
   "source": [
    "# Define the purchase amount\n",
    "purchase_amount = 150\n",
    "discount_rate = 0\n",
    "if purchase_amount >= 100:\n",
    "    discount_rate = 0.20  # 20% discount\n",
    "elif purchase_amount >= 50:\n",
    "    discount_rate = 0.10  # 10% discount\n",
    "else:\n",
    "    discount_rate = 0.05\n",
    "discount_amount = purchase_amount * discount_rate\n",
    "print(f\"Purchase amount: ${purchase_amount:.2f}\")\n",
    "print(f\"Discount rate: {discount_rate * 100:.0f}%\")\n",
    "print(f\"Discount amount: ${discount_amount:.2f}\")\n"
   ]
  },
  {
   "cell_type": "code",
   "execution_count": null,
   "id": "40310f63-0ac5-4c39-a37b-409d3a818d0a",
   "metadata": {},
   "outputs": [],
   "source": [
    "9.Write a Python program to check if a number is within a specified range using if-else."
   ]
  },
  {
   "cell_type": "code",
   "execution_count": 38,
   "id": "c4b60798-e8c9-4225-a6f8-ea89bb31e33a",
   "metadata": {},
   "outputs": [
    {
     "name": "stdout",
     "output_type": "stream",
     "text": [
      "25 is within the range (10, 30).\n"
     ]
    }
   ],
   "source": [
    "# Define the number to check\n",
    "number = 25\n",
    "lower_bound = 10\n",
    "upper_bound = 30\n",
    "if lower_bound <= number <= upper_bound:\n",
    "    print(f\"{number} is within the range ({lower_bound}, {upper_bound}).\")\n",
    "else:\n",
    "    print(f\"{number} is not within the range ({lower_bound}, {upper_bound}).\")\n"
   ]
  },
  {
   "cell_type": "code",
   "execution_count": null,
   "id": "eecb170d-ccc6-435a-bf77-12a89c89d5a6",
   "metadata": {},
   "outputs": [],
   "source": [
    "10.Create a Python program that determines the grade of a student based on their score using if-else."
   ]
  },
  {
   "cell_type": "code",
   "execution_count": 39,
   "id": "07ed9dba-4058-4d30-9105-c476b19f03d6",
   "metadata": {},
   "outputs": [
    {
     "name": "stdout",
     "output_type": "stream",
     "text": [
      "The student's score is 88.\n",
      "The grade is B.\n"
     ]
    }
   ],
   "source": [
    "# Define the student's score\n",
    "score = 88\n",
    "if score >= 90:\n",
    "    grade = 'A'\n",
    "elif score >= 80:\n",
    "    grade = 'B'\n",
    "elif score >= 70:\n",
    "    grade = 'C'\n",
    "elif score >= 60:\n",
    "    grade = 'D'\n",
    "else:\n",
    "    grade = 'F'\n",
    "\n",
    "print(f\"The student's score is {score}.\")\n",
    "print(f\"The grade is {grade}.\")\n"
   ]
  },
  {
   "cell_type": "code",
   "execution_count": null,
   "id": "ec229528-e3a7-4e90-aa27-9a7cc268139e",
   "metadata": {},
   "outputs": [],
   "source": [
    "11.Write a Python program to check if a string is empty or not using if-else"
   ]
  },
  {
   "cell_type": "code",
   "execution_count": 40,
   "id": "28652dc3-db72-4d54-a00c-88e5f5413832",
   "metadata": {},
   "outputs": [
    {
     "name": "stdout",
     "output_type": "stream",
     "text": [
      "string is not empty\n"
     ]
    }
   ],
   "source": [
    "s=\"gh\"\n",
    "if s[0]==0:\n",
    "    print(\"String is empty\")\n",
    "else:\n",
    "    print(\"string is not empty\")"
   ]
  },
  {
   "cell_type": "code",
   "execution_count": null,
   "id": "425ced25-bd7a-4b0b-b437-92c116e0dbf9",
   "metadata": {},
   "outputs": [],
   "source": [
    "12.Create a Python program that identifies the type of a triangle (e.g., equilateral, isosceles, or scalene) based on input values using if-else."
   ]
  },
  {
   "cell_type": "code",
   "execution_count": 41,
   "id": "2b7aded9-25c8-463e-9900-5ebb614d8f7d",
   "metadata": {},
   "outputs": [
    {
     "name": "stdout",
     "output_type": "stream",
     "text": [
      "The triangle with sides 7, 5, and 7 is Isosceles.\n"
     ]
    }
   ],
   "source": [
    "# Define the lengths of the three sides of the triangle\n",
    "side1 = 7\n",
    "side2 = 5\n",
    "side3 = 7\n",
    "\n",
    "# Check if the sides form a valid triangle\n",
    "if side1 + side2 > side3 and side1 + side3 > side2 and side2 + side3 > side1:\n",
    "    # Determine the type of the triangle\n",
    "    if side1 == side2 == side3:\n",
    "        triangle_type = 'Equilateral'\n",
    "    elif side1 == side2 or side1 == side3 or side2 == side3:\n",
    "        triangle_type = 'Isosceles'\n",
    "    else:\n",
    "        triangle_type = 'Scalene'\n",
    "else:\n",
    "    triangle_type = 'Not a valid triangle'\n",
    "\n",
    "# Print the result\n",
    "print(f\"The triangle with sides {side1}, {side2}, and {side3} is {triangle_type}.\")\n"
   ]
  },
  {
   "cell_type": "code",
   "execution_count": null,
   "id": "99e9f00d-d591-4140-89a0-83af996dc9f7",
   "metadata": {},
   "outputs": [],
   "source": [
    "13.Write a Python program to determine the day of the week based on a user-provided number using if-else."
   ]
  },
  {
   "cell_type": "code",
   "execution_count": 42,
   "id": "c5288853-8491-4ad7-a127-8a3257919c24",
   "metadata": {},
   "outputs": [
    {
     "name": "stdin",
     "output_type": "stream",
     "text": [
      "Enter a number between 1 and 7:  5\n"
     ]
    },
    {
     "name": "stdout",
     "output_type": "stream",
     "text": [
      "The day of the week is: Friday\n"
     ]
    }
   ],
   "source": [
    "# Prompt the user to enter a number between 1 and 7\n",
    "number = int(input(\"Enter a number between 1 and 7: \"))\n",
    "\n",
    "# Determine the day of the week based on the number\n",
    "if number == 1:\n",
    "    day = \"Monday\"\n",
    "elif number == 2:\n",
    "    day = \"Tuesday\"\n",
    "elif number == 3:\n",
    "    day = \"Wednesday\"\n",
    "elif number == 4:\n",
    "    day = \"Thursday\"\n",
    "elif number == 5:\n",
    "    day = \"Friday\"\n",
    "elif number == 6:\n",
    "    day = \"Saturday\"\n",
    "elif number == 7:\n",
    "    day = \"Sunday\"\n",
    "else:\n",
    "    day = \"Invalid number, please enter a number between 1 and 7.\"\n",
    "\n",
    "# Print the result\n",
    "print(f\"The day of the week is: {day}\")\n"
   ]
  },
  {
   "cell_type": "code",
   "execution_count": null,
   "id": "6a529404-b1b5-48c6-8612-f7e21d135155",
   "metadata": {},
   "outputs": [],
   "source": [
    "14.Create a Python program that checks if a given year is a leap year using both if-else and a function."
   ]
  },
  {
   "cell_type": "code",
   "execution_count": 43,
   "id": "3afd0c10-693f-46a5-b116-828ff3a57cfb",
   "metadata": {},
   "outputs": [
    {
     "name": "stdin",
     "output_type": "stream",
     "text": [
      "Enter a year:  2023\n"
     ]
    },
    {
     "name": "stdout",
     "output_type": "stream",
     "text": [
      "2023 is not a leap year.\n"
     ]
    }
   ],
   "source": [
    "def is_leap_year(year):\n",
    "    \"\"\"Determine if a year is a leap year.\"\"\"\n",
    "    if (year % 4 == 0 and year % 100 != 0) or (year % 400 == 0):\n",
    "        return True\n",
    "    else:\n",
    "        return False\n",
    "\n",
    "# Prompt the user to enter a year\n",
    "year = int(input(\"Enter a year: \"))\n",
    "\n",
    "# Check if the year is a leap year using the function\n",
    "if is_leap_year(year):\n",
    "    print(f\"{year} is a leap year.\")\n",
    "else:\n",
    "    print(f\"{year} is not a leap year.\")\n"
   ]
  },
  {
   "cell_type": "code",
   "execution_count": null,
   "id": "97cc10b6-b971-4993-8ebc-5b2289a4e2f9",
   "metadata": {},
   "outputs": [],
   "source": [
    "15.How do you use the \"assert\" statement in Python to add debugging checks within if-else blocks?"
   ]
  },
  {
   "cell_type": "code",
   "execution_count": 44,
   "id": "3b60d432-de03-44a9-b545-21fd94afaa5d",
   "metadata": {},
   "outputs": [
    {
     "name": "stdin",
     "output_type": "stream",
     "text": [
      "Enter the price:  23\n"
     ]
    },
    {
     "name": "stdout",
     "output_type": "stream",
     "text": [
      "Discount amount: $1.15\n"
     ]
    }
   ],
   "source": [
    "# Example function with assert in if-else block\n",
    "def calculate_discount(price):\n",
    "    assert price >= 0, \"Price must be non-negative\"\n",
    "\n",
    "    if price > 100:\n",
    "        discount = 0.20\n",
    "    elif price > 50:\n",
    "        discount = 0.10\n",
    "    else:\n",
    "        discount = 0.05\n",
    "\n",
    "    # Check that discount is in a valid range\n",
    "    assert discount in [0.05, 0.10, 0.20], \"Discount must be one of 0.05, 0.10, or 0.20\"\n",
    "\n",
    "    return price * discount\n",
    "\n",
    "# Example usage\n",
    "price = float(input(\"Enter the price: \"))\n",
    "discount_amount = calculate_discount(price)\n",
    "print(f\"Discount amount: ${discount_amount:.2f}\")\n"
   ]
  },
  {
   "cell_type": "code",
   "execution_count": null,
   "id": "ce172e92-fc3a-457f-b5af-91e99c41ee2d",
   "metadata": {},
   "outputs": [],
   "source": [
    "16.Create a Python program that determines the eligibility of a person for a senior citizen discount based on age using if-els"
   ]
  },
  {
   "cell_type": "code",
   "execution_count": 45,
   "id": "9787790a-3c10-4ee1-8274-1ab833384d3c",
   "metadata": {},
   "outputs": [
    {
     "name": "stdin",
     "output_type": "stream",
     "text": [
      "Enter your age:  57\n"
     ]
    },
    {
     "name": "stdout",
     "output_type": "stream",
     "text": [
      "Based on your age of 57, you are not eligible for a senior citizen discount.\n"
     ]
    }
   ],
   "source": [
    "# Define the age of the person\n",
    "age = int(input(\"Enter your age: \"))\n",
    "\n",
    "# Determine eligibility for senior citizen discount\n",
    "if age >= 65:\n",
    "    eligibility = \"eligible\"\n",
    "else:\n",
    "    eligibility = \"not eligible\"\n",
    "\n",
    "# Print the result\n",
    "print(f\"Based on your age of {age}, you are {eligibility} for a senior citizen discount.\")\n"
   ]
  },
  {
   "cell_type": "code",
   "execution_count": null,
   "id": "fbff0fbf-6c69-4b99-9b7b-390e87ff1810",
   "metadata": {},
   "outputs": [],
   "source": [
    "17.Write a Python program to categorize a given character as uppercase, lowercase, or neither using if-else."
   ]
  },
  {
   "cell_type": "code",
   "execution_count": 47,
   "id": "1147c1fa-3001-41f4-b52d-554738c065eb",
   "metadata": {},
   "outputs": [
    {
     "name": "stdin",
     "output_type": "stream",
     "text": [
      "Enter a single character:  H\n"
     ]
    },
    {
     "name": "stdout",
     "output_type": "stream",
     "text": [
      "The character 'H' is uppercase.\n"
     ]
    }
   ],
   "source": [
    "# Define the character to categorize\n",
    "char = input(\"Enter a single character: \")\n",
    "\n",
    "# Check if the character is a single character\n",
    "if len(char) != 1:\n",
    "    print(\"Please enter only a single character.\")\n",
    "else:\n",
    "    # Determine if the character is uppercase, lowercase, or neither\n",
    "    if char.isupper():\n",
    "        category = \"uppercase\"\n",
    "    elif char.islower():\n",
    "        category = \"lowercase\"\n",
    "    else:\n",
    "        category = \"neither uppercase nor lowercase\"\n",
    "\n",
    "    # Print the result\n",
    "    print(f\"The character '{char}' is {category}.\")\n"
   ]
  },
  {
   "cell_type": "code",
   "execution_count": null,
   "id": "772dae8b-02f9-4698-bc7d-5248b00d5a13",
   "metadata": {},
   "outputs": [],
   "source": [
    "18.Write a Python program to determine the roots of a quadratic equation using if-else."
   ]
  },
  {
   "cell_type": "code",
   "execution_count": 48,
   "id": "73144a31-c64e-4919-a74d-550f61b6a37e",
   "metadata": {},
   "outputs": [
    {
     "name": "stdin",
     "output_type": "stream",
     "text": [
      "Enter coefficient a:  5\n",
      "Enter coefficient b:  6\n",
      "Enter coefficient c:  4\n"
     ]
    },
    {
     "name": "stdout",
     "output_type": "stream",
     "text": [
      "The equation has two complex roots: (-0.6+0.6633249580710799j) and (-0.6-0.6633249580710799j).\n"
     ]
    }
   ],
   "source": [
    "import cmath  # For complex number support\n",
    "\n",
    "# Define the coefficients of the quadratic equation\n",
    "a = float(input(\"Enter coefficient a: \"))\n",
    "b = float(input(\"Enter coefficient b: \"))\n",
    "c = float(input(\"Enter coefficient c: \"))\n",
    "\n",
    "# Calculate the discriminant\n",
    "discriminant = b**2 - 4*a*c\n",
    "\n",
    "# Determine the nature of the roots based on the discriminant\n",
    "if discriminant > 0:\n",
    "    # Two distinct real roots\n",
    "    root1 = (-b + cmath.sqrt(discriminant)) / (2 * a)\n",
    "    root2 = (-b - cmath.sqrt(discriminant)) / (2 * a)\n",
    "    print(f\"The equation has two distinct real roots: {root1.real} and {root2.real}.\")\n",
    "elif discriminant == 0:\n",
    "    # One real root (repeated root)\n",
    "    root = -b / (2 * a)\n",
    "    print(f\"The equation has one real root (repeated): {root}.\")\n",
    "else:\n",
    "    # No real roots (complex roots)\n",
    "    root1 = (-b + cmath.sqrt(discriminant)) / (2 * a)\n",
    "    root2 = (-b - cmath.sqrt(discriminant)) / (2 * a)\n",
    "    print(f\"The equation has two complex roots: {root1} and {root2}.\")\n"
   ]
  },
  {
   "cell_type": "code",
   "execution_count": null,
   "id": "e81fe4ef-20b5-471d-a971-9fa65325e4f2",
   "metadata": {},
   "outputs": [],
   "source": [
    "19.Create a Python program that checks if a given year is a century year or not using if-else."
   ]
  },
  {
   "cell_type": "code",
   "execution_count": 49,
   "id": "de4b35c6-5938-4f98-8906-e3930ac34d37",
   "metadata": {},
   "outputs": [
    {
     "name": "stdin",
     "output_type": "stream",
     "text": [
      "Enter a year:  2024\n"
     ]
    },
    {
     "name": "stdout",
     "output_type": "stream",
     "text": [
      "2024 is not a century year.\n"
     ]
    }
   ],
   "source": [
    "# Define the year to check\n",
    "year = int(input(\"Enter a year: \"))\n",
    "\n",
    "# Check if the year is a century year\n",
    "if year % 100 == 0:\n",
    "    print(f\"{year} is a century year.\")\n",
    "else:\n",
    "    print(f\"{year} is not a century year.\")\n"
   ]
  },
  {
   "cell_type": "code",
   "execution_count": null,
   "id": "fb686994-6af3-4c43-9ae7-4bb63c5b2d9e",
   "metadata": {},
   "outputs": [],
   "source": [
    "20.Write a Python program to determine if a given number is a perfect square using if-else."
   ]
  },
  {
   "cell_type": "code",
   "execution_count": 50,
   "id": "6f832435-e0a1-4e70-a179-9e45eaae7507",
   "metadata": {},
   "outputs": [
    {
     "name": "stdin",
     "output_type": "stream",
     "text": [
      "Enter a number:  23\n"
     ]
    },
    {
     "name": "stdout",
     "output_type": "stream",
     "text": [
      "23 is not a perfect square.\n"
     ]
    }
   ],
   "source": [
    "import math\n",
    "\n",
    "# Define the number to check\n",
    "number = int(input(\"Enter a number: \"))\n",
    "\n",
    "# Check if the number is a perfect square\n",
    "if number < 0:\n",
    "    # Negative numbers cannot be perfect squares\n",
    "    print(f\"{number} is not a perfect square.\")\n",
    "else:\n",
    "    # Calculate the square root of the number\n",
    "    sqrt_number = math.isqrt(number)\n",
    "    \n",
    "    # Check if squaring the integer square root equals the original number\n",
    "    if sqrt_number * sqrt_number == number:\n",
    "        print(f\"{number} is a perfect square.\")\n",
    "    else:\n",
    "        print(f\"{number} is not a perfect square.\")\n"
   ]
  },
  {
   "cell_type": "code",
   "execution_count": null,
   "id": "ad1dc890-7c2c-4ba0-a9ab-bd9303cdf74b",
   "metadata": {},
   "outputs": [],
   "source": [
    "21.Explain the purpose of the \"continue\" and \"break\" statements within if-else loops."
   ]
  },
  {
   "cell_type": "code",
   "execution_count": 51,
   "id": "f043d384-e27e-4f0c-a806-99b3d24e75b8",
   "metadata": {},
   "outputs": [
    {
     "name": "stdout",
     "output_type": "stream",
     "text": [
      "1\n",
      "3\n",
      "5\n",
      "7\n",
      "9\n"
     ]
    }
   ],
   "source": [
    "# Continue statement is used to skip single itration form the loop\n",
    "for number in range(1, 11):\n",
    "    if number % 2 == 0:\n",
    "        continue  # Skip the rest of the loop for even numbers\n",
    "    print(number)"
   ]
  },
  {
   "cell_type": "code",
   "execution_count": 53,
   "id": "e3f40b13-f3b0-496d-a1fc-5b66c4d6e477",
   "metadata": {},
   "outputs": [
    {
     "name": "stdout",
     "output_type": "stream",
     "text": [
      "1\n",
      "2\n"
     ]
    }
   ],
   "source": [
    "# break statement is used to end the remaning itrations of the loop\n",
    "for number in range(1, 11):\n",
    "    if number == 3:\n",
    "        break  # Exit the loop when the number is 5\n",
    "    print(number)\n"
   ]
  },
  {
   "cell_type": "code",
   "execution_count": null,
   "id": "3a53b7b2-2cf3-4caa-9bd3-95b31b2818bf",
   "metadata": {},
   "outputs": [],
   "source": [
    "22.Create a Python program that calculates the BMI (Body Mass Index) of a person based on their weight and height using if-else."
   ]
  },
  {
   "cell_type": "code",
   "execution_count": 54,
   "id": "0f28c907-7c40-4b0e-8996-b7a6e76fdc2b",
   "metadata": {},
   "outputs": [
    {
     "name": "stdin",
     "output_type": "stream",
     "text": [
      "Enter your weight in kilograms:  90\n",
      "Enter your height in meters:  1.778\n"
     ]
    },
    {
     "name": "stdout",
     "output_type": "stream",
     "text": [
      "Your BMI is 28.47.\n",
      "You are classified as: Overweight.\n"
     ]
    }
   ],
   "source": [
    "# Define a function to calculate BMI and categorize it\n",
    "def calculate_bmi(weight, height):\n",
    "    # Calculate BMI\n",
    "    bmi = weight / (height ** 2)\n",
    "    \n",
    "    # Determine the BMI category\n",
    "    if bmi < 18.5:\n",
    "        category = \"Underweight\"\n",
    "    elif 18.5 <= bmi < 24.9:\n",
    "        category = \"Normal weight\"\n",
    "    elif 25 <= bmi < 29.9:\n",
    "        category = \"Overweight\"\n",
    "    else:\n",
    "        category = \"Obesity\"\n",
    "    \n",
    "    return bmi, category\n",
    "\n",
    "# Prompt the user to enter weight and height\n",
    "weight = float(input(\"Enter your weight in kilograms: \"))\n",
    "height = float(input(\"Enter your height in meters: \"))\n",
    "\n",
    "# Check if the height is positive\n",
    "if height <= 0:\n",
    "    print(\"Height must be a positive number.\")\n",
    "else:\n",
    "    # Calculate BMI and determine the category\n",
    "    bmi, category = calculate_bmi(weight, height)\n",
    "    \n",
    "    # Print the result\n",
    "    print(f\"Your BMI is {bmi:.2f}.\")\n",
    "    print(f\"You are classified as: {category}.\")\n"
   ]
  },
  {
   "cell_type": "code",
   "execution_count": null,
   "id": "f8fccd52-47bb-4946-88c4-4cd5bbd55c6e",
   "metadata": {},
   "outputs": [],
   "source": [
    "23.How can you use the \"filter()\" function with if-else statements to filter elements from a list?"
   ]
  },
  {
   "cell_type": "code",
   "execution_count": 58,
   "id": "63842b19-b677-4932-81bf-b4adee77d2c4",
   "metadata": {},
   "outputs": [
    {
     "name": "stdout",
     "output_type": "stream",
     "text": [
      "Even numbers: [2, 4, 6, 8, 10]\n"
     ]
    }
   ],
   "source": [
    "# List of numbers\n",
    "numbers = [1, 2, 3, 4, 5, 6, 7, 8, 9, 10]\n",
    "\n",
    "# Use filter() to apply the function to the list\n",
    "even_numbers = list(filter(lambda x: x%2==0 , numbers))\n",
    "\n",
    "# Print the result\n",
    "print(\"Even numbers:\", even_numbers)\n"
   ]
  },
  {
   "cell_type": "code",
   "execution_count": null,
   "id": "750e45c4-55f6-436e-a880-67a110bb4d6a",
   "metadata": {},
   "outputs": [],
   "source": [
    "24.Write a Python program to determine if a given number is prime or not using if-else."
   ]
  },
  {
   "cell_type": "code",
   "execution_count": 56,
   "id": "9639b49d-fa9f-44a4-8c4b-108d88fa7a8e",
   "metadata": {},
   "outputs": [
    {
     "name": "stdin",
     "output_type": "stream",
     "text": [
      "Enter a number:  5\n"
     ]
    },
    {
     "name": "stdout",
     "output_type": "stream",
     "text": [
      "5 is a prime number.\n"
     ]
    }
   ],
   "source": [
    "def is_prime(number):\n",
    "    \"\"\"Check if the given number is a prime number.\"\"\"\n",
    "    # Edge cases\n",
    "    if number <= 1:\n",
    "        return False\n",
    "    elif number <= 3:\n",
    "        return True\n",
    "    elif number % 2 == 0 or number % 3 == 0:\n",
    "        return False\n",
    "    \n",
    "    # Check for factors from 5 to sqrt(number)\n",
    "    i = 5\n",
    "    while i * i <= number:\n",
    "        if number % i == 0 or number % (i + 2) == 0:\n",
    "            return False\n",
    "        i += 6\n",
    "    \n",
    "    return True\n",
    "\n",
    "# Prompt the user to enter a number\n",
    "number = int(input(\"Enter a number: \"))\n",
    "\n",
    "# Determine if the number is prime using the function\n",
    "if is_prime(number):\n",
    "    print(f\"{number} is a prime number.\")\n",
    "else:\n",
    "    print(f\"{number} is not a prime number.\")\n"
   ]
  },
  {
   "cell_type": "code",
   "execution_count": null,
   "id": "3ae39f5e-aa62-4a84-8105-31f494968dbf",
   "metadata": {},
   "outputs": [],
   "source": []
  },
  {
   "cell_type": "code",
   "execution_count": null,
   "id": "5e4b92f8-d3ab-4787-932d-749f8ba0e73c",
   "metadata": {},
   "outputs": [],
   "source": [
    "Map :-"
   ]
  },
  {
   "cell_type": "code",
   "execution_count": null,
   "id": "d57ed9ef-c593-4111-9d4b-cd9243adf48f",
   "metadata": {},
   "outputs": [],
   "source": [
    "1.Explain the purpose of the `map()` function in Python and provide an example of how it can be used to apply a function to each element of an iterable."
   ]
  },
  {
   "cell_type": "code",
   "execution_count": 61,
   "id": "23e84e46-0e3a-4dac-8f62-bcabfc157040",
   "metadata": {},
   "outputs": [
    {
     "name": "stdout",
     "output_type": "stream",
     "text": [
      "Squared numbers: [1, 4, 9, 16, 25]\n"
     ]
    }
   ],
   "source": [
    "# map function is used to apply specific function on itrable\n",
    "\n",
    "numbers = [1, 2, 3, 4, 5]\n",
    "squared_numbers = map(lambda x: x*x, numbers)\n",
    "print(\"Squared numbers:\", list(squared_numbers))\n"
   ]
  },
  {
   "cell_type": "code",
   "execution_count": null,
   "id": "6d9060da-9f02-4c73-9d76-925468a30842",
   "metadata": {},
   "outputs": [],
   "source": [
    "2.Write a Python program that uses the `map()` function to square each element of a list of numbers."
   ]
  },
  {
   "cell_type": "code",
   "execution_count": 62,
   "id": "42d41d59-e367-4083-9cc5-bd8a5ec10eae",
   "metadata": {},
   "outputs": [
    {
     "name": "stdout",
     "output_type": "stream",
     "text": [
      "Squared numbers: [1, 4, 9, 16, 25]\n"
     ]
    }
   ],
   "source": [
    "numbers = [1, 2, 3, 4, 5]\n",
    "squared_numbers = map(lambda x: x**2, numbers)\n",
    "print(\"Squared numbers:\", list(squared_numbers))\n"
   ]
  },
  {
   "cell_type": "code",
   "execution_count": null,
   "id": "0328276d-9df0-4e3f-ba1a-75eb25de40ce",
   "metadata": {},
   "outputs": [],
   "source": [
    "3.How does the `map()` function differ from a list comprehension in Python, and when would you choose one over the other?"
   ]
  },
  {
   "cell_type": "code",
   "execution_count": 63,
   "id": "0d88178c-de1e-4d46-8402-1bb163c59995",
   "metadata": {},
   "outputs": [
    {
     "name": "stdout",
     "output_type": "stream",
     "text": [
      "[1, 4, 9, 16, 25]\n"
     ]
    }
   ],
   "source": [
    "#When you want to apply a pre-defined function to each item in an iterable.\n",
    "#When you are working with multiple iterables and need to pass them to the function.\n",
    "\n",
    "numbers = [1, 2, 3, 4, 5]\n",
    "squared_numbers = map(lambda x: x*x, numbers)\n",
    "print(list(squared_numbers))  # Output: [1, 4, 9, 16, 25]\n"
   ]
  },
  {
   "cell_type": "code",
   "execution_count": 64,
   "id": "072810ad-92eb-480a-bd92-b8e81c1203e3",
   "metadata": {},
   "outputs": [
    {
     "name": "stdout",
     "output_type": "stream",
     "text": [
      "[1, 4, 9, 16, 25]\n"
     ]
    }
   ],
   "source": [
    "#When you need to create a new list by transforming elements of an iterable.\n",
    "#When you want to include filtering logic directly in the comprehension.\n",
    "#When you prefer a more Pythonic and readable way to write simple transformations.\n",
    "numbers = [1, 2, 3, 4, 5]\n",
    "squared_numbers = [x * x for x in numbers]\n",
    "print(squared_numbers)  # Output: [1, 4, 9, 16, 25]\n"
   ]
  },
  {
   "cell_type": "code",
   "execution_count": null,
   "id": "c03ef11f-9c51-4db0-ac3d-edbe33673723",
   "metadata": {},
   "outputs": [],
   "source": [
    "4.Create a Python program that uses the `map()` function to convert a list of names to uppercase."
   ]
  },
  {
   "cell_type": "code",
   "execution_count": 66,
   "id": "bd6ad06f-b53d-462d-a79b-652869e8242f",
   "metadata": {},
   "outputs": [
    {
     "name": "stdout",
     "output_type": "stream",
     "text": [
      "['ALI', 'RAZA', 'RIZWAN']\n"
     ]
    }
   ],
   "source": [
    "lst=[\"ali\",\"raza\",\"rizwan\"]\n",
    "result=list(map(lambda x: x.upper(),lst ))\n",
    "print(result)"
   ]
  },
  {
   "cell_type": "code",
   "execution_count": null,
   "id": "3f4d2062-cd97-472d-9a05-464d6c046192",
   "metadata": {},
   "outputs": [],
   "source": [
    "5.Write a Python program that uses the `map()` function to calculate the length of each word in a list of strings."
   ]
  },
  {
   "cell_type": "code",
   "execution_count": 67,
   "id": "b800357c-6625-4695-8b56-03d5f4469267",
   "metadata": {},
   "outputs": [
    {
     "name": "stdout",
     "output_type": "stream",
     "text": [
      "[3, 4, 6]\n"
     ]
    }
   ],
   "source": [
    "lst=[\"ali\",\"raza\",\"rizwan\"]\n",
    "result=list(map(lambda x: len(x),lst ))\n",
    "print(result)"
   ]
  },
  {
   "cell_type": "code",
   "execution_count": null,
   "id": "8d168070-840f-4b89-8b04-a0d4c3a1327d",
   "metadata": {},
   "outputs": [],
   "source": [
    "6.How can you use the `map()` function to apply a custom function to elements of multiple lists simultaneously in Python?"
   ]
  },
  {
   "cell_type": "code",
   "execution_count": 68,
   "id": "10409e0c-6bc2-4848-867c-911897f31314",
   "metadata": {},
   "outputs": [
    {
     "name": "stdout",
     "output_type": "stream",
     "text": [
      "[8, 9, 256, 5]\n"
     ]
    }
   ],
   "source": [
    "# Define a custom function that takes two arguments\n",
    "def power(base, exponent):\n",
    "    return base ** exponent\n",
    "\n",
    "# Two lists of numbers\n",
    "bases = [2, 3, 4, 5]\n",
    "exponents = [3, 2, 4, 1]\n",
    "\n",
    "# Use map() to apply the power function to elements of both lists\n",
    "results = map(power, bases, exponents)\n",
    "\n",
    "# Convert the map object to a list and print the results\n",
    "print(list(results))  # Output: [8, 9, 256, 5]\n"
   ]
  },
  {
   "cell_type": "code",
   "execution_count": null,
   "id": "aae4d762-18d3-4475-91ed-ec7672f53b70",
   "metadata": {},
   "outputs": [],
   "source": [
    "7.Create a Python program that uses `map()` to convert a list of temperatures from Celsius to Fahrenheit."
   ]
  },
  {
   "cell_type": "code",
   "execution_count": 70,
   "id": "209c5361-775e-45e3-bc78-b7998b76b4d9",
   "metadata": {},
   "outputs": [
    {
     "name": "stdout",
     "output_type": "stream",
     "text": [
      "Temperatures in Fahrenheit: [32.0, 50.0, 68.0, 86.0, 104.0]\n"
     ]
    }
   ],
   "source": [
    "celsius_temperatures = [0, 10, 20, 30, 40]\n",
    "\n",
    "fahrenheit_temperatures = map(lambda x: x* 9 / 5 + 32 , celsius_temperatures)\n",
    "\n",
    "print(\"Temperatures in Fahrenheit:\", list(fahrenheit_temperatures))"
   ]
  },
  {
   "cell_type": "code",
   "execution_count": null,
   "id": "4d984ba9-d890-4be8-80cd-60a2fff1c073",
   "metadata": {},
   "outputs": [],
   "source": [
    "8.Write a Python program that uses the `map()` function to round each element of a list of floating-point numbers to the nearest integer."
   ]
  },
  {
   "cell_type": "code",
   "execution_count": 72,
   "id": "3a174d88-5492-46fe-9a19-dd07bb2881ba",
   "metadata": {},
   "outputs": [
    {
     "name": "stdout",
     "output_type": "stream",
     "text": [
      "Rounded numbers: [1, 4, 4, 8, 9]\n"
     ]
    }
   ],
   "source": [
    "\n",
    "float_numbers = [1.2, 3.6, 4.5, 7.8, 9.1]\n",
    "rounded_numbers = map(lambda x: round(x), float_numbers)\n",
    "print(\"Rounded numbers:\", list(rounded_numbers))\n"
   ]
  },
  {
   "cell_type": "code",
   "execution_count": null,
   "id": "af2e626d-eb08-4697-a159-08148714789a",
   "metadata": {},
   "outputs": [],
   "source": []
  },
  {
   "cell_type": "code",
   "execution_count": null,
   "id": "1c7a5f02-f971-4972-bf72-e552d42414d9",
   "metadata": {},
   "outputs": [],
   "source": [
    "Reduce :-"
   ]
  },
  {
   "cell_type": "code",
   "execution_count": null,
   "id": "7e201ae3-3baa-44ac-a6e7-65e5ddca7fea",
   "metadata": {},
   "outputs": [],
   "source": [
    "1.What is the `reduce()` function in Python, and what module should you import to use it? Provide an example of its basic usage."
   ]
  },
  {
   "cell_type": "code",
   "execution_count": 74,
   "id": "139ba466-7c84-4bc8-a513-8354cc5eee36",
   "metadata": {},
   "outputs": [
    {
     "name": "stdout",
     "output_type": "stream",
     "text": [
      "Product of all numbers: 120\n"
     ]
    }
   ],
   "source": [
    "#The reduce() function in Python is used  to reduce the iterable to a single value. \n",
    "#To use reduce(), you need to import it from the functools module:\n",
    "from functools import reduce\n",
    "\n",
    "numbers = [1, 2, 3, 4, 5]\n",
    "product = reduce(lambda x,y:x*y, numbers)\n",
    "print(\"Product of all numbers:\", product)\n"
   ]
  },
  {
   "cell_type": "code",
   "execution_count": null,
   "id": "b306548a-d5f1-469b-abb2-27e315295b07",
   "metadata": {},
   "outputs": [],
   "source": [
    "2.Write a Python program that uses the `reduce()` function to find the product of all elements in a list."
   ]
  },
  {
   "cell_type": "code",
   "execution_count": 76,
   "id": "0ce5c766-0abe-4aa9-bcee-6cbc9f99b3a4",
   "metadata": {},
   "outputs": [
    {
     "name": "stdout",
     "output_type": "stream",
     "text": [
      "Product of all numbers: 720\n"
     ]
    }
   ],
   "source": [
    "from functools import reduce\n",
    "\n",
    "numbers = [1, 2, 3, 4, 5,6]\n",
    "product = reduce(lambda x,y:x*y, numbers)\n",
    "print(\"Product of all numbers:\", product)"
   ]
  },
  {
   "cell_type": "code",
   "execution_count": null,
   "id": "288dc09d-0331-4cf6-adf6-3972b01030b9",
   "metadata": {},
   "outputs": [],
   "source": [
    "3.Create a Python program that uses `reduce()` to find the maximum element in a list of numbers."
   ]
  },
  {
   "cell_type": "code",
   "execution_count": 77,
   "id": "01c97ac6-6989-4c69-aca0-deede7016f7a",
   "metadata": {},
   "outputs": [
    {
     "name": "stdout",
     "output_type": "stream",
     "text": [
      "Maximum number: 9\n"
     ]
    }
   ],
   "source": [
    "from functools import reduce\n",
    "numbers = [3, 1, 4, 1, 5, 9, 2, 6, 5, 3, 5]\n",
    "max_number = reduce(lambda x,y:x if x > y else y, numbers)\n",
    "print(\"Maximum number:\", max_number)\n"
   ]
  },
  {
   "cell_type": "code",
   "execution_count": null,
   "id": "8f1d79c6-29f7-4f5f-88db-01675ab8b29e",
   "metadata": {},
   "outputs": [],
   "source": [
    "4.How can you use the `reduce()` function to concatenate a list of strings into a single string?"
   ]
  },
  {
   "cell_type": "code",
   "execution_count": 78,
   "id": "8119bbe0-754d-48ff-9f8f-57fccc869040",
   "metadata": {},
   "outputs": [
    {
     "name": "stdout",
     "output_type": "stream",
     "text": [
      "Concatenated string: Hello world! How are you?\n"
     ]
    }
   ],
   "source": [
    "from functools import reduce\n",
    "strings = [\"Hello\", \" \", \"world\", \"!\", \" How\", \" are\", \" you?\"]\n",
    "\n",
    "result = reduce(lambda x,y : x+y, strings)lt\n",
    "print(\"Concatenated string:\", result)\n"
   ]
  },
  {
   "cell_type": "code",
   "execution_count": null,
   "id": "b65e84f7-5e3b-48c9-a504-7d9f040db369",
   "metadata": {},
   "outputs": [],
   "source": [
    "5.Write a Python program that calculates the factorial of a number using the `reduce()` function."
   ]
  },
  {
   "cell_type": "code",
   "execution_count": 82,
   "id": "6859b42f-97f1-4543-82ed-7b027d70e530",
   "metadata": {},
   "outputs": [
    {
     "name": "stdout",
     "output_type": "stream",
     "text": [
      "Factorial of 5 is: 120\n"
     ]
    }
   ],
   "source": [
    "from functools import reduce\n",
    "\n",
    "n= 5\n",
    "result =reduce(lambda x,y:x*y, list(range(1, n + 1)))\n",
    "\n",
    "# Print the result\n",
    "print(f\"Factorial of {number} is: {result}\")\n"
   ]
  },
  {
   "cell_type": "code",
   "execution_count": null,
   "id": "3932780a-7a64-46a6-a037-b3b619260b65",
   "metadata": {},
   "outputs": [],
   "source": [
    "6.Create a Python program that uses `reduce()` to find the GCD (Greatest Common Divisor) of a list of numbers."
   ]
  },
  {
   "cell_type": "code",
   "execution_count": 83,
   "id": "2b3aacaa-9e2e-4d54-accb-eb00d1594cff",
   "metadata": {},
   "outputs": [
    {
     "name": "stdout",
     "output_type": "stream",
     "text": [
      "GCD of the list of numbers is: 12\n"
     ]
    }
   ],
   "source": [
    "from functools import reduce\n",
    "from math import gcd\n",
    "\n",
    "numbers = [48, 180, 36, 60]\n",
    "\n",
    "# Use reduce() to find the GCD of the list\n",
    "result = reduce(lambda x,y: gcd(x,y), numbers)\n",
    "\n",
    "# Print the result\n",
    "print(\"GCD of the list of numbers is:\", result)\n"
   ]
  },
  {
   "cell_type": "code",
   "execution_count": null,
   "id": "dd4cf694-597c-46d4-8cc0-112d74beca56",
   "metadata": {},
   "outputs": [],
   "source": [
    "7.Write a Python program that uses the `reduce()` function to find the sum of the digits of a given number."
   ]
  },
  {
   "cell_type": "code",
   "execution_count": 84,
   "id": "6beeb55f-fa7e-40f4-8baa-ebeaebed854b",
   "metadata": {},
   "outputs": [
    {
     "name": "stdout",
     "output_type": "stream",
     "text": [
      "Sum of the digits of 12345 is: 15\n"
     ]
    }
   ],
   "source": [
    "from functools import reduce\n",
    "\n",
    "# Example usage\n",
    "number = 12345\n",
    "result = reduce(lambda x,y:x+y, [int(digit) for digit in str(number)])\n",
    "\n",
    "# Print the result\n",
    "print(f\"Sum of the digits of {number} is:\", result)\n"
   ]
  },
  {
   "cell_type": "code",
   "execution_count": null,
   "id": "962dd6d1-f2a8-4a0b-bb51-4d2bdf08239f",
   "metadata": {},
   "outputs": [],
   "source": []
  },
  {
   "cell_type": "code",
   "execution_count": null,
   "id": "6606ec43-91df-4afa-933d-b9a4dcf9c722",
   "metadata": {},
   "outputs": [],
   "source": [
    "Filter :-"
   ]
  },
  {
   "cell_type": "code",
   "execution_count": null,
   "id": "a2a4d404-1c33-4067-b946-f370bdb53b4b",
   "metadata": {},
   "outputs": [],
   "source": [
    "Explain the purpose of the `filter()` function in Python and provide an example of how it can be used to filter elements from an iterable."
   ]
  },
  {
   "cell_type": "code",
   "execution_count": 85,
   "id": "95af6466-551c-4c63-8502-45a979b849bf",
   "metadata": {},
   "outputs": [
    {
     "name": "stdout",
     "output_type": "stream",
     "text": [
      "Odd numbers: [1, 3, 5, 7, 9]\n"
     ]
    }
   ],
   "source": [
    "#The filter() function returns an iterator, so you typically need to convert it to a list\n",
    "#or another collection type to see the results.\n",
    "\n",
    "numbers = [1, 2, 3, 4, 5, 6, 7, 8, 9, 10]\n",
    "\n",
    "odd_numbers_list = list(filter(lambda x: x% 2 != 0 , numbers))\n",
    "\n",
    "# Print the result\n",
    "print(\"Odd numbers:\", odd_numbers_list)\n"
   ]
  },
  {
   "cell_type": "code",
   "execution_count": null,
   "id": "492f9952-4cd8-48b5-81c2-0a1946747112",
   "metadata": {},
   "outputs": [],
   "source": [
    "2.Write a Python program that uses the `filter()` function to select even numbers from a list of integers."
   ]
  },
  {
   "cell_type": "code",
   "execution_count": 86,
   "id": "dc5557d2-ea42-4908-8e9a-21b35b47f63e",
   "metadata": {},
   "outputs": [
    {
     "name": "stdout",
     "output_type": "stream",
     "text": [
      "Even numbers: [2, 4, 6, 8, 10]\n"
     ]
    }
   ],
   "source": [
    "numbers = [1, 2, 3, 4, 5, 6, 7, 8, 9, 10]\n",
    "\n",
    "even_numbers_list = list(filter(lambda x: x% 2 == 0 , numbers))\n",
    "\n",
    "# Print the result\n",
    "print(\"Even numbers:\", even_numbers_list)"
   ]
  },
  {
   "cell_type": "code",
   "execution_count": null,
   "id": "0ba8c04a-05df-4cca-9311-b7ef1619866e",
   "metadata": {},
   "outputs": [],
   "source": [
    "3.Create a Python program that uses the `filter()` function to select names that start with a specific letter from a list of strings."
   ]
  },
  {
   "cell_type": "code",
   "execution_count": 89,
   "id": "cd01982b-4308-49d1-9714-b647172865c8",
   "metadata": {},
   "outputs": [
    {
     "name": "stdout",
     "output_type": "stream",
     "text": [
      "Names starting with A: ['Alice']\n"
     ]
    }
   ],
   "source": [
    "\n",
    "names = [\"Alice\", \"Bob\", \"Charlie\", \"David\", \"Eve\", \"Frank\"]\n",
    "\n",
    "filtered_names_list = list(filter(lambda x: \"A\" in x, names))\n",
    "\n",
    "# Print the result\n",
    "print(f\"Names starting with A:\", filtered_names_list)\n"
   ]
  },
  {
   "cell_type": "code",
   "execution_count": null,
   "id": "faaaa5ea-9996-47a5-8894-f2586c86e3e0",
   "metadata": {},
   "outputs": [],
   "source": [
    "4.Write a Python program that uses the`filter()` function to select prime numbers from a list of integers."
   ]
  },
  {
   "cell_type": "code",
   "execution_count": 90,
   "id": "95bb4fde-3ac2-4f6d-9857-f6b552ca3712",
   "metadata": {},
   "outputs": [
    {
     "name": "stdout",
     "output_type": "stream",
     "text": [
      "Prime numbers: [2, 3, 5, 7, 11, 13, 17, 19]\n"
     ]
    }
   ],
   "source": [
    "# Define a function to check if a number is prime\n",
    "def is_prime(n):\n",
    "    if n <= 1:\n",
    "        return False\n",
    "    for i in range(2, int(n**0.5) + 1):\n",
    "        if n % i == 0:\n",
    "            return False\n",
    "    return True\n",
    "\n",
    "# List of integers\n",
    "numbers = [2, 3, 4, 5, 6, 7, 8, 9, 10, 11, 12, 13, 14, 15, 16, 17, 18, 19, 20]\n",
    "\n",
    "# Use filter() to get prime numbers from the list\n",
    "prime_numbers = filter(is_prime, numbers)\n",
    "\n",
    "# Convert the filter object to a list\n",
    "prime_numbers_list = list(prime_numbers)\n",
    "\n",
    "# Print the result\n",
    "print(\"Prime numbers:\", prime_numbers_list)\n"
   ]
  },
  {
   "cell_type": "code",
   "execution_count": null,
   "id": "d7ccc18c-92ad-4b6e-b73e-edf75d834c4a",
   "metadata": {},
   "outputs": [],
   "source": [
    "5.How can you use the `filter()` function to remove None values from a list in Python?"
   ]
  },
  {
   "cell_type": "code",
   "execution_count": 91,
   "id": "46a93e2f-3715-4123-aa41-39486ccd0672",
   "metadata": {},
   "outputs": [
    {
     "name": "stdout",
     "output_type": "stream",
     "text": [
      "Filtered values (without None): [1, 2, 3, 4, 5]\n"
     ]
    }
   ],
   "source": [
    "\n",
    "values = [1, None, 2, None, 3, 4, None, 5]\n",
    "filtered_values_list = list(filter(lambda x: x is not None, values))\n",
    "\n",
    "# Print the result\n",
    "print(\"Filtered values (without None):\", filtered_values_list)\n"
   ]
  },
  {
   "cell_type": "code",
   "execution_count": null,
   "id": "60e8b9a3-232c-4fa4-a735-9398e840ff7f",
   "metadata": {},
   "outputs": [],
   "source": [
    "6.Create a Python program that uses `filter()` to select words longer than a certain length from a list of strings."
   ]
  },
  {
   "cell_type": "code",
   "execution_count": 93,
   "id": "a1064d6d-07c1-4e59-bc4d-9155d5472242",
   "metadata": {},
   "outputs": [
    {
     "name": "stdout",
     "output_type": "stream",
     "text": [
      "Words longer than 5 characters: ['banana', 'cherry', 'elderberry']\n"
     ]
    }
   ],
   "source": [
    "\n",
    "words = [\"apple\", \"banana\", \"cherry\", \"date\", \"elderberry\", \"fig\", \"grape\"]\n",
    "filtered_words_list = list(filter(lambda x:len(x)>5, words))\n",
    "\n",
    "# Print the result\n",
    "print(f\"Words longer than 5 characters:\", filtered_words_list)\n"
   ]
  },
  {
   "cell_type": "code",
   "execution_count": null,
   "id": "c41294b1-c237-4466-89ba-5b9709259e82",
   "metadata": {},
   "outputs": [],
   "source": [
    "7.Write a Python program that uses the `filter()` function to select elements greater than a specified threshold from a list of values."
   ]
  },
  {
   "cell_type": "code",
   "execution_count": 94,
   "id": "eaa26f29-1ef0-4cd4-95ac-9dfc99053d03",
   "metadata": {},
   "outputs": [
    {
     "name": "stdout",
     "output_type": "stream",
     "text": [
      "Values greater than 10: [20, 15, 25]\n"
     ]
    }
   ],
   "source": [
    "\n",
    "values = [10, 5, 20, 8, 15, 3, 25, 7]\n",
    "\n",
    "filtered_values_list = list(filter(lambda x: x>10, values))\n",
    "\n",
    "print(f\"Values greater than 10:\", filtered_values_list)\n"
   ]
  },
  {
   "cell_type": "code",
   "execution_count": null,
   "id": "fe99a7a4-77a7-4c23-be30-6aa8a6a18277",
   "metadata": {},
   "outputs": [],
   "source": []
  },
  {
   "cell_type": "code",
   "execution_count": null,
   "id": "677e52e8-1b17-4c00-b7e8-97091d0ae89b",
   "metadata": {},
   "outputs": [],
   "source": [
    "Recursion:-"
   ]
  },
  {
   "cell_type": "code",
   "execution_count": null,
   "id": "36b0e8c7-f923-4033-81dd-4a6a2a370d54",
   "metadata": {},
   "outputs": [],
   "source": [
    "1.Explain the concept of recursion in Python. How does it differ from iteration?"
   ]
  },
  {
   "cell_type": "code",
   "execution_count": 95,
   "id": "d1518b7b-bacd-4dc0-9308-7aa074b36c32",
   "metadata": {},
   "outputs": [
    {
     "name": "stdout",
     "output_type": "stream",
     "text": [
      "120\n"
     ]
    }
   ],
   "source": [
    "#Recursion is a programming technique where a function calls itself in order to solve a problem.\n",
    "def factorial(n):\n",
    "    if n == 0:  # Base case\n",
    "        return 1\n",
    "    else:  # Recursive case\n",
    "        return n * factorial(n - 1)\n",
    "\n",
    "# Test the function\n",
    "print(factorial(5))  # Output: 120\n"
   ]
  },
  {
   "cell_type": "code",
   "execution_count": null,
   "id": "373daaa9-8d66-469e-ad61-832019d3e001",
   "metadata": {},
   "outputs": [],
   "source": [
    "2.Write a Python program to calculate the factorial of a number using recursion."
   ]
  },
  {
   "cell_type": "code",
   "execution_count": 97,
   "id": "73f43b75-e89e-4bb5-8f05-423f382e5732",
   "metadata": {},
   "outputs": [
    {
     "name": "stdout",
     "output_type": "stream",
     "text": [
      "120\n"
     ]
    }
   ],
   "source": [
    "def factorial(n):\n",
    "    if n == 0:  # Base case\n",
    "        return 1\n",
    "    else:  # Recursive case\n",
    "        return n * factorial(n - 1)\n",
    "\n",
    "# Test the function\n",
    "print(factorial(5))  # Output: 120"
   ]
  },
  {
   "cell_type": "code",
   "execution_count": null,
   "id": "563e203f-7b04-4045-8d5f-19818bd299b0",
   "metadata": {},
   "outputs": [],
   "source": [
    "3.Create a recursive Python function to find the nth Fibonacci number."
   ]
  },
  {
   "cell_type": "code",
   "execution_count": 98,
   "id": "136fd6cf-1efa-4fd8-9807-99b68f2c30fc",
   "metadata": {},
   "outputs": [
    {
     "name": "stdout",
     "output_type": "stream",
     "text": [
      "The 10th Fibonacci number is: 55\n"
     ]
    }
   ],
   "source": [
    "def fibonacci(n):\n",
    "    if n <= 0:\n",
    "        return 0\n",
    "    elif n == 1:\n",
    "        return 1\n",
    "    else:\n",
    "        return fibonacci(n-1) + fibonacci(n-2)\n",
    "\n",
    "# Test the function\n",
    "n = 10\n",
    "print(f\"The {n}th Fibonacci number is: {fibonacci(n)}\")\n"
   ]
  },
  {
   "cell_type": "code",
   "execution_count": null,
   "id": "e400cf3b-2684-49e1-a3d4-db651be87f7b",
   "metadata": {},
   "outputs": [],
   "source": [
    "4.Write a recursive Python function to calculate the sum of all elements in a list."
   ]
  },
  {
   "cell_type": "code",
   "execution_count": 99,
   "id": "10459a57-d715-40f3-b863-5fe7dc161441",
   "metadata": {},
   "outputs": [
    {
     "name": "stdout",
     "output_type": "stream",
     "text": [
      "The sum of the list [1, 2, 3, 4, 5] is: 15\n"
     ]
    }
   ],
   "source": [
    "def recursive_sum(lst):\n",
    "    # Base case: If the list is empty, return 0\n",
    "    if not lst:\n",
    "        return 0\n",
    "    # Recursive case: Sum the first element and the sum of the rest of the list\n",
    "    else:\n",
    "        return lst[0] + recursive_sum(lst[1:])\n",
    "\n",
    "# Test the function\n",
    "numbers = [1, 2, 3, 4, 5]\n",
    "print(f\"The sum of the list {numbers} is: {recursive_sum(numbers)}\")\n"
   ]
  },
  {
   "cell_type": "code",
   "execution_count": null,
   "id": "c19f349f-4aa4-4c1e-904a-f9e1cd02fa27",
   "metadata": {},
   "outputs": [],
   "source": [
    "5.How can you prevent a recursive function from running indefinitely, causing a stack overflow error?"
   ]
  },
  {
   "cell_type": "code",
   "execution_count": 101,
   "id": "bf69a002-9549-4d3e-8d9e-2489270fa67d",
   "metadata": {},
   "outputs": [
    {
     "name": "stdout",
     "output_type": "stream",
     "text": [
      "120\n"
     ]
    }
   ],
   "source": [
    "def factorial(n):\n",
    "    if n < 0:\n",
    "        raise ValueError(\"Input must be a non-negative integer\")\n",
    "    # Base case: factorial of 0 is 1\n",
    "    elif n == 0:\n",
    "        return 1\n",
    "    # Recursive case: n! = n * (n-1)!\n",
    "    else:\n",
    "        return n * factorial(n - 1)\n",
    "\n",
    "# Test the function\n",
    "print(factorial(5))  # Output: 120\n"
   ]
  },
  {
   "cell_type": "code",
   "execution_count": null,
   "id": "ea63a3a2-5374-4d5d-ad23-c98de148cc0f",
   "metadata": {},
   "outputs": [],
   "source": [
    "6.Create a recursive Python function to find the greatest common divisor (GCD) of two numbers using the Euclidean algorithm."
   ]
  },
  {
   "cell_type": "code",
   "execution_count": 102,
   "id": "264f2b7c-4944-4d6a-845e-a0619915b97c",
   "metadata": {},
   "outputs": [
    {
     "name": "stdout",
     "output_type": "stream",
     "text": [
      "The GCD of 48 and 18 is: 6\n"
     ]
    }
   ],
   "source": [
    "def gcd(a, b):\n",
    "    # Base case: If the second number is zero, return the first number\n",
    "    if b == 0:\n",
    "        return a\n",
    "    # Recursive case: GCD of a and b is the same as GCD of b and a % b\n",
    "    else:\n",
    "        return gcd(b, a % b)\n",
    "\n",
    "# Test the function\n",
    "x = 48\n",
    "y = 18\n",
    "print(f\"The GCD of {x} and {y} is: {gcd(x, y)}\")\n"
   ]
  },
  {
   "cell_type": "code",
   "execution_count": null,
   "id": "c77f95d0-9ffb-4f9a-b164-df19972ded29",
   "metadata": {},
   "outputs": [],
   "source": [
    "7.Write a recursive Python function to reverse a string."
   ]
  },
  {
   "cell_type": "code",
   "execution_count": 103,
   "id": "b2c0aeac-fe49-4606-a460-bf1fa96f3bca",
   "metadata": {},
   "outputs": [
    {
     "name": "stdout",
     "output_type": "stream",
     "text": [
      "The reversed string of 'hello' is: 'olleh'\n"
     ]
    }
   ],
   "source": [
    "def reverse_string(s):\n",
    "    # Base case: If the string is empty or contains a single character\n",
    "    if len(s) <= 1:\n",
    "        return s\n",
    "    # Recursive case: Reverse the rest of the string and append the first character\n",
    "    else:\n",
    "        return reverse_string(s[1:]) + s[0]\n",
    "\n",
    "# Test the function\n",
    "test_string = \"hello\"\n",
    "print(f\"The reversed string of '{test_string}' is: '{reverse_string(test_string)}'\")\n"
   ]
  },
  {
   "cell_type": "code",
   "execution_count": null,
   "id": "1fb4e80f-3e1d-41e3-b922-960e48217efd",
   "metadata": {},
   "outputs": [],
   "source": [
    "8.Create a recursive Python function to calculate the power of a number (x^n)."
   ]
  },
  {
   "cell_type": "code",
   "execution_count": 104,
   "id": "85199f45-f168-43dc-b104-f088f5698515",
   "metadata": {},
   "outputs": [
    {
     "name": "stdout",
     "output_type": "stream",
     "text": [
      "2 raised to the power of 3 is: 8\n"
     ]
    }
   ],
   "source": [
    "def power(x, n):\n",
    "    # Base case: Any number to the power of 0 is 1\n",
    "    if n == 0:\n",
    "        return 1\n",
    "    # Base case: Negative exponent\n",
    "    elif n < 0:\n",
    "        return 1 / power(x, -n)\n",
    "    # Recursive case: For positive exponents\n",
    "    else:\n",
    "        return x * power(x, n - 1)\n",
    "\n",
    "# Test the function\n",
    "base = 2\n",
    "exponent = 3\n",
    "print(f\"{base} raised to the power of {exponent} is: {power(base, exponent)}\")\n"
   ]
  },
  {
   "cell_type": "code",
   "execution_count": null,
   "id": "9a995047-681d-4206-91f4-3a432841923b",
   "metadata": {},
   "outputs": [],
   "source": [
    "9.Write a recursive Python function to find all permutations of a given string."
   ]
  },
  {
   "cell_type": "code",
   "execution_count": 105,
   "id": "e35db79d-b349-490c-bcf4-e053e67e6fcf",
   "metadata": {},
   "outputs": [
    {
     "name": "stdout",
     "output_type": "stream",
     "text": [
      "All permutations of 'abc' are: ['abc', 'acb', 'bac', 'bca', 'cab', 'cba']\n"
     ]
    }
   ],
   "source": [
    "def permute(s):\n",
    "    # Base case: If the string is empty or has one character\n",
    "    if len(s) <= 1:\n",
    "        return [s]\n",
    "    \n",
    "    permutations = []  # List to store all permutations\n",
    "    \n",
    "    # Loop through each character in the string\n",
    "    for i in range(len(s)):\n",
    "        # Character at the current position\n",
    "        char = s[i]\n",
    "        # Remaining characters after removing the current character\n",
    "        remaining = s[:i] + s[i+1:]\n",
    "        # Recursively find permutations of the remaining characters\n",
    "        for p in permute(remaining):\n",
    "            # Add the current character to the front of each permutation of the remaining characters\n",
    "            permutations.append(char + p)\n",
    "    \n",
    "    return permutations\n",
    "\n",
    "# Test the function\n",
    "test_string = \"abc\"\n",
    "print(f\"All permutations of '{test_string}' are: {permute(test_string)}\")\n"
   ]
  },
  {
   "cell_type": "code",
   "execution_count": null,
   "id": "017c9ba8-d123-4b9d-9e3f-3a40f36c7868",
   "metadata": {},
   "outputs": [],
   "source": [
    "10.Write a recursive Python function to check if a string is a palindrome."
   ]
  },
  {
   "cell_type": "code",
   "execution_count": 106,
   "id": "5e76081e-ceb4-4470-be35-ba4f5b8f699e",
   "metadata": {},
   "outputs": [
    {
     "name": "stdout",
     "output_type": "stream",
     "text": [
      "Is the string 'A man a plan a canal Panama' a palindrome? True\n"
     ]
    }
   ],
   "source": [
    "def is_palindrome(s):\n",
    "    # Remove spaces and convert to lowercase for case-insensitive comparison\n",
    "    s = s.replace(\" \", \"\").lower()\n",
    "    \n",
    "    # Base case: If the string is empty or has one character\n",
    "    if len(s) <= 1:\n",
    "        return True\n",
    "    \n",
    "    # Recursive case: Compare the first and last characters\n",
    "    if s[0] == s[-1]:\n",
    "        return is_palindrome(s[1:-1])\n",
    "    else:\n",
    "        return False\n",
    "\n",
    "# Test the function\n",
    "test_string = \"A man a plan a canal Panama\"\n",
    "print(f\"Is the string '{test_string}' a palindrome? {is_palindrome(test_string)}\")\n"
   ]
  },
  {
   "cell_type": "code",
   "execution_count": null,
   "id": "3ac57de6-9f13-4d15-b273-c754845d2887",
   "metadata": {},
   "outputs": [],
   "source": [
    "11.Create a recursive Python function to generate all possible combinations of a list of elements."
   ]
  },
  {
   "cell_type": "code",
   "execution_count": 108,
   "id": "c1586771-7a86-441b-9372-a41ca5a7c60b",
   "metadata": {},
   "outputs": [
    {
     "name": "stdout",
     "output_type": "stream",
     "text": [
      "All combinations of [1, 2, 3] are: [[], [3], [2], [2, 3], [1], [1, 3], [1, 2], [1, 2, 3]]\n"
     ]
    }
   ],
   "source": [
    "def combinations(lst):\n",
    "    # Base case: If the list is empty, return a list with an empty combination\n",
    "    if len(lst) == 0:\n",
    "        return [[]]\n",
    "    \n",
    "    # Recursive case\n",
    "    # Get the combinations of the rest of the list\n",
    "    rest_combinations = combinations(lst[1:])\n",
    "    \n",
    "    # Include the first element in all combinations of the rest of the list\n",
    "    with_first = [[lst[0]] + comb for comb in rest_combinations]\n",
    "    \n",
    "    # Return all combinations: those including and those excluding the first element\n",
    "    return rest_combinations + with_first\n",
    "\n",
    "# Test the function\n",
    "test_list = [1, 2, 3]\n",
    "print(f\"All combinations of {test_list} are: {combinations(test_list)}\")\n"
   ]
  },
  {
   "cell_type": "code",
   "execution_count": null,
   "id": "7d608f02-d356-4993-9bfc-4f3e261d5f26",
   "metadata": {},
   "outputs": [],
   "source": []
  },
  {
   "cell_type": "code",
   "execution_count": null,
   "id": "7d044d2f-8b77-4f91-8d41-fec24ad7718b",
   "metadata": {},
   "outputs": [],
   "source": [
    "Basics of Functions:"
   ]
  },
  {
   "cell_type": "code",
   "execution_count": null,
   "id": "cc10ed99-92b1-4131-ab7d-52fe580a8c7f",
   "metadata": {},
   "outputs": [],
   "source": [
    "1.What is a function in Python, and why is it used?\n",
    "\n",
    "A function in Python is a reusable block of code designed to perform a specific task.\n",
    "use it multiple times throughout your program."
   ]
  },
  {
   "cell_type": "code",
   "execution_count": null,
   "id": "8ca15039-b34c-4f24-aacb-4151df62f93c",
   "metadata": {},
   "outputs": [],
   "source": [
    "2.How do you define a function in Python? Provide an example."
   ]
  },
  {
   "cell_type": "code",
   "execution_count": 110,
   "id": "a8eb9b8a-a773-4da6-9d0a-ae893c77cf60",
   "metadata": {},
   "outputs": [
    {
     "name": "stdout",
     "output_type": "stream",
     "text": [
      "8\n"
     ]
    }
   ],
   "source": [
    "def add(a, b):\n",
    "    return a + b\n",
    "\n",
    "result = add(3, 5)  # result is 8\n",
    "print(result)"
   ]
  },
  {
   "cell_type": "code",
   "execution_count": null,
   "id": "3e43e760-a893-49fb-9a07-aecc8564082f",
   "metadata": {},
   "outputs": [],
   "source": [
    "3.Explain the difference between a function definition and a function call."
   ]
  },
  {
   "cell_type": "code",
   "execution_count": null,
   "id": "99460b78-f66c-4854-8200-20e40b45e9fe",
   "metadata": {},
   "outputs": [],
   "source": [
    "Function Definition\n",
    "A function definition is the process of creating a function. \n",
    "It involves specifying the function’s name, parameters (if any),\n",
    "and the code block that defines what the function does. \n",
    "The function definition sets up the function so it can be used later in the program.\n",
    "Function Call\n",
    "A function call is the process of executing a function that has been defined.\n",
    "When a function is called, the code inside the function is executed,\n",
    "and the function may return a value if it has a return statement."
   ]
  },
  {
   "cell_type": "code",
   "execution_count": null,
   "id": "01e45562-68cf-45d3-aea8-de056ed890fa",
   "metadata": {},
   "outputs": [],
   "source": [
    "4.Write a Python program that defines a function to calculate the sum of two numbers\n",
    "and then calls the function."
   ]
  },
  {
   "cell_type": "code",
   "execution_count": 111,
   "id": "7d0bd3b6-92bf-4a35-accc-e4c1b2f455c6",
   "metadata": {},
   "outputs": [
    {
     "name": "stdout",
     "output_type": "stream",
     "text": [
      "The sum of 10 and 5 is 15.\n"
     ]
    }
   ],
   "source": [
    "# Function Definition\n",
    "def add_numbers(a, b):\n",
    "    \"\"\"\n",
    "    This function takes two numbers as input and returns their sum.\n",
    "    \"\"\"\n",
    "    return a + b\n",
    "\n",
    "# Function Call\n",
    "num1 = 10\n",
    "num2 = 5\n",
    "result = add_numbers(num1, num2)\n",
    "\n",
    "# Output the result\n",
    "print(f\"The sum of {num1} and {num2} is {result}.\")\n"
   ]
  },
  {
   "cell_type": "code",
   "execution_count": null,
   "id": "84c60536-5781-47b3-b7d0-2404e3e68d5d",
   "metadata": {},
   "outputs": [],
   "source": [
    "5.What is a function signature, and what information does it typically include?"
   ]
  },
  {
   "cell_type": "code",
   "execution_count": null,
   "id": "5f62c4af-d248-4475-a306-bbaef61aef28",
   "metadata": {},
   "outputs": [],
   "source": [
    "\n",
    "A function signature is a crucial part of a function in programming that defines its interface.\n",
    "It provides essential information about the function and how it can be used.\n",
    "The function signature typically includes:\n",
    "\n",
    "Function Name: The identifier used to call the function.\n",
    "It should be descriptive of the function's purpose.\n",
    "\n",
    "Parameters: The list of variables that the function accepts as input.\n",
    "Each parameter has a name and may have an optional type hint or default value.\n",
    "\n",
    "Return Type (Optional): Specifies the type of value that the function returns. \n",
    "In Python, this is usually indicated by type hints and is optional."
   ]
  },
  {
   "cell_type": "code",
   "execution_count": null,
   "id": "488f0cb0-c25d-4284-b6f6-9bd4098a9461",
   "metadata": {},
   "outputs": [],
   "source": [
    "6.Create a Python function that takes two arguments and returns their product."
   ]
  },
  {
   "cell_type": "code",
   "execution_count": 112,
   "id": "f74efa6a-423a-4740-872d-5948540d4010",
   "metadata": {},
   "outputs": [
    {
     "name": "stdout",
     "output_type": "stream",
     "text": [
      "The product of 7 and 3 is 21.\n"
     ]
    }
   ],
   "source": [
    "def multiply(a, b):\n",
    "   \n",
    "    return a * b\n",
    "\n",
    "# Example usage\n",
    "num1 = 7\n",
    "num2 = 3\n",
    "result = multiply(num1, num2)\n",
    "print(f\"The product of {num1} and {num2} is {result}.\")\n"
   ]
  },
  {
   "cell_type": "code",
   "execution_count": null,
   "id": "2b0cd8d2-8f63-485a-870b-c28d5f44190c",
   "metadata": {},
   "outputs": [],
   "source": []
  },
  {
   "cell_type": "code",
   "execution_count": null,
   "id": "2e034f5f-fbbd-477d-8d9c-73c5bdc32e75",
   "metadata": {},
   "outputs": [],
   "source": [
    "Function Parameters and Arguments:"
   ]
  },
  {
   "cell_type": "code",
   "execution_count": null,
   "id": "bd5ea832-307d-4161-94dd-5831b0e9d623",
   "metadata": {},
   "outputs": [],
   "source": [
    "1.Explain the concepts of formal parameters and actual arguments in Python functions."
   ]
  },
  {
   "cell_type": "code",
   "execution_count": null,
   "id": "ef302acf-8507-47fc-9a0b-e96342ff0bb3",
   "metadata": {},
   "outputs": [],
   "source": [
    "Formal Parameters\n",
    "Formal parameters  are the variables defined \n",
    "by the function that receive values when the function is called\n",
    "\n",
    "Actual Arguments\n",
    "Actual arguments are the real values \n",
    "or variables passed to the function when it is called."
   ]
  },
  {
   "cell_type": "code",
   "execution_count": null,
   "id": "cc3c0983-f1ea-4599-b6fe-0864bb06e952",
   "metadata": {},
   "outputs": [],
   "source": [
    "2.Write a Python program that defines a function with default argument values."
   ]
  },
  {
   "cell_type": "code",
   "execution_count": 2,
   "id": "1c078a81-2769-4dc5-87e9-8b5cf2fe51c4",
   "metadata": {},
   "outputs": [
    {
     "name": "stdout",
     "output_type": "stream",
     "text": [
      "Hi, Alice!\n",
      "Hello, Ali!\n"
     ]
    }
   ],
   "source": [
    "def greet(name, greeting=\"Hello\"):\n",
    "    print(f\"{greeting}, {name}!\")\n",
    "\n",
    "# Calling the function with both arguments\n",
    "greet(\"Alice\", \"Hi\")\n",
    "\n",
    "# Calling the function with only the name argument, using the default greeting\n",
    "greet(\"Ali\")"
   ]
  },
  {
   "cell_type": "code",
   "execution_count": null,
   "id": "d0cc3bea-cac3-4f61-9bdd-ac3d25fcee59",
   "metadata": {},
   "outputs": [],
   "source": [
    "3.How do you use keyword arguments in Python function calls? Provide an example."
   ]
  },
  {
   "cell_type": "code",
   "execution_count": 5,
   "id": "3902ad87-3847-491b-b808-673e329d66c3",
   "metadata": {},
   "outputs": [
    {
     "name": "stdout",
     "output_type": "stream",
     "text": [
      "\n",
      "I have a Cat.\n",
      "My Cat's name is Bob.\n"
     ]
    }
   ],
   "source": [
    "def describe_pet(pet_name, animal_type=\"dog\"):\n",
    "    print(f\"\\nI have a {animal_type}.\")\n",
    "    print(f\"My {animal_type}'s name is {pet_name}.\")\n",
    "describe_pet(\"Bob\",\"Cat\")"
   ]
  },
  {
   "cell_type": "code",
   "execution_count": null,
   "id": "2afc299c-a137-4cfa-917c-0462450b5b54",
   "metadata": {},
   "outputs": [],
   "source": [
    "4.Create a Python function that accepts a variable number of arguments and calculates their sum."
   ]
  },
  {
   "cell_type": "code",
   "execution_count": 1,
   "id": "7d5a68e8-1f7b-48bb-a82c-f8ba579a4019",
   "metadata": {},
   "outputs": [
    {
     "data": {
      "text/plain": [
       "12"
      ]
     },
     "execution_count": 1,
     "metadata": {},
     "output_type": "execute_result"
    }
   ],
   "source": [
    "def add(a,b):\n",
    "    return a+b\n",
    "add(5,7)\n",
    "    "
   ]
  },
  {
   "cell_type": "code",
   "execution_count": null,
   "id": "ce1738ed-27d1-4fac-bbb4-4d09e5d27369",
   "metadata": {},
   "outputs": [],
   "source": [
    "5.What is the purpose of the `*args` and `**kwargs` syntax in function parameter lists?"
   ]
  },
  {
   "cell_type": "code",
   "execution_count": null,
   "id": "68b272d5-3157-4755-a0d1-af3ef21dab55",
   "metadata": {},
   "outputs": [],
   "source": [
    "*args It is used to pass any number of arguments in a function.\n",
    "**kwargs it is used to pass arguments with keys and values lis dict"
   ]
  },
  {
   "cell_type": "code",
   "execution_count": null,
   "id": "f44b5daf-08c5-478e-a7ea-c3833fd14cb9",
   "metadata": {},
   "outputs": [],
   "source": []
  },
  {
   "cell_type": "code",
   "execution_count": null,
   "id": "c66f6314-3dc9-45fd-b8fd-b18a687c4eaa",
   "metadata": {},
   "outputs": [],
   "source": [
    "Return Values and Scoping:"
   ]
  },
  {
   "cell_type": "code",
   "execution_count": null,
   "id": "de05f8f5-db1a-4c37-ab14-7226b719df24",
   "metadata": {},
   "outputs": [],
   "source": [
    "1.Describe the role of the `return` statement in Python functions and provide examples."
   ]
  },
  {
   "cell_type": "code",
   "execution_count": null,
   "id": "18fbe799-5b92-4bba-b998-fb2d026cedf8",
   "metadata": {},
   "outputs": [],
   "source": [
    "When a function executes a return statement,\n",
    "the function terminates, and the specified value (if any) is returned to the caller.\n"
   ]
  },
  {
   "cell_type": "code",
   "execution_count": 2,
   "id": "3b11083e-39ec-4878-b2ed-6a43f8333621",
   "metadata": {},
   "outputs": [
    {
     "name": "stdout",
     "output_type": "stream",
     "text": [
      "8\n"
     ]
    }
   ],
   "source": [
    "def add(a, b):\n",
    "    return a + b\n",
    "\n",
    "result = add(3, 5)\n",
    "print(result)  # Output: 8\n"
   ]
  },
  {
   "cell_type": "code",
   "execution_count": null,
   "id": "bae15e7d-84f1-4854-877d-ae59441c794d",
   "metadata": {},
   "outputs": [],
   "source": [
    "2.Explain the concept of variable scope in Python, including local and global variables."
   ]
  },
  {
   "cell_type": "code",
   "execution_count": null,
   "id": "93f417aa-8dc7-4757-886c-a2bfa280f7f0",
   "metadata": {},
   "outputs": [],
   "source": [
    "Local Scope\n",
    "A variable defined inside a function has a local scope. \n",
    "This means the variable is accessible only within that function and not outside of it\n",
    "Global Scope\n",
    "A variable defined outside any function has a global scope.\n",
    "This means the variable is accessible throughout the entire program,\n",
    "including inside functions (unless shadowed by a local variable with the same name)."
   ]
  },
  {
   "cell_type": "code",
   "execution_count": null,
   "id": "a4051602-451e-4de8-ab47-d5bd8ac4ad1f",
   "metadata": {},
   "outputs": [],
   "source": [
    "3.Write a Python program that demonstrates the use of global variables within functions."
   ]
  },
  {
   "cell_type": "code",
   "execution_count": 3,
   "id": "020d365f-5e7c-439c-a07b-5213e184b3ed",
   "metadata": {},
   "outputs": [
    {
     "name": "stdout",
     "output_type": "stream",
     "text": [
      "10\n",
      "10\n"
     ]
    }
   ],
   "source": [
    "x = 10  # Global variable\n",
    "\n",
    "def my_function():\n",
    "    print(x)  # Accessing the global variable\n",
    "\n",
    "my_function()  # Output: 10\n",
    "print(x)       # Output: 10\n"
   ]
  },
  {
   "cell_type": "code",
   "execution_count": null,
   "id": "9b4fcdcb-4a8c-4677-b5b3-bb2073754200",
   "metadata": {},
   "outputs": [],
   "source": [
    "4.Create a Python function that calculates the factorial of a number and returns it."
   ]
  },
  {
   "cell_type": "code",
   "execution_count": 4,
   "id": "9f3cd1a8-383c-4e11-8437-3dbaaa71c25d",
   "metadata": {},
   "outputs": [
    {
     "name": "stdout",
     "output_type": "stream",
     "text": [
      "120\n"
     ]
    }
   ],
   "source": [
    "def factorial(n):\n",
    "    # Base case: 0! and 1! are both 1\n",
    "    if n == 0 or n == 1:\n",
    "        return 1\n",
    "    # Recursive case: n! = n * (n-1)!\n",
    "    else:\n",
    "        return n * factorial(n - 1)\n",
    "\n",
    "# Example usage\n",
    "result = factorial(5)\n",
    "print(result)  # Output: 120\n"
   ]
  },
  {
   "cell_type": "code",
   "execution_count": null,
   "id": "4c619c6e-e0e8-42db-8ab9-2bbeeeb0d9cf",
   "metadata": {},
   "outputs": [],
   "source": [
    "5.How can you access variables defined outside a function from within the function?"
   ]
  },
  {
   "cell_type": "code",
   "execution_count": null,
   "id": "b7c6b5b8-2036-4655-b86e-c13cf47546f3",
   "metadata": {},
   "outputs": [],
   "source": [
    "If you only need to read the value of a global variable inside a function,\n",
    "you can directly access it without any special syntax."
   ]
  },
  {
   "cell_type": "code",
   "execution_count": null,
   "id": "bf980d92-78d3-442c-aeba-628c6f96b28b",
   "metadata": {},
   "outputs": [],
   "source": []
  },
  {
   "cell_type": "code",
   "execution_count": null,
   "id": "7d368d77-7716-4b33-9971-3f3220411bac",
   "metadata": {},
   "outputs": [],
   "source": [
    "Lambda Functions and Higher-Order Functions:"
   ]
  },
  {
   "cell_type": "code",
   "execution_count": null,
   "id": "7b6b764f-02c4-424b-9b81-217628bf8ec0",
   "metadata": {},
   "outputs": [],
   "source": [
    "1.What are lambda functions in Python, and when are they typically used?"
   ]
  },
  {
   "cell_type": "code",
   "execution_count": null,
   "id": "14ffb083-b200-42d3-9967-badea67d5efb",
   "metadata": {},
   "outputs": [],
   "source": [
    "\n",
    "Lambda functions in Python, also known as anonymous functions, are small,\n",
    "unnamed functions defined using the lambda keyword.\n",
    "They are typically used for short, simple operations,\n",
    "often as arguments to higher-order functions like map, filter, and sorted.\n",
    "\n",
    "lambda arguments: expression\n"
   ]
  },
  {
   "cell_type": "code",
   "execution_count": null,
   "id": "745a946c-eccf-4f5a-bc70-0e8bdc81ae5e",
   "metadata": {},
   "outputs": [],
   "source": [
    "2.Write a Python program that uses lambda functions to sort a list of tuples based on the second element."
   ]
  },
  {
   "cell_type": "code",
   "execution_count": 5,
   "id": "530e62c4-c75f-44bb-a422-63f79c87134f",
   "metadata": {},
   "outputs": [
    {
     "name": "stdout",
     "output_type": "stream",
     "text": [
      "[(1, 'apple'), (3, 'banana'), (4, 'grape'), (2, 'orange')]\n"
     ]
    }
   ],
   "source": [
    "# List of tuples\n",
    "data = [(1, 'apple'), (2, 'orange'), (3, 'banana'), (4, 'grape')]\n",
    "\n",
    "# Sort the list of tuples based on the second element of each tuple\n",
    "sorted_data = sorted(data, key=lambda x: x[1])\n",
    "\n",
    "# Print the sorted list\n",
    "print(sorted_data)\n"
   ]
  },
  {
   "cell_type": "code",
   "execution_count": null,
   "id": "377a8f16-4d91-4bd4-8610-92ed2016fe7a",
   "metadata": {},
   "outputs": [],
   "source": [
    "3.Explain the concept of higher-order functions in Python, and provide an example."
   ]
  },
  {
   "cell_type": "code",
   "execution_count": null,
   "id": "5730c37b-7272-4a63-9efc-b5358fd9a731",
   "metadata": {},
   "outputs": [],
   "source": [
    "Higher-order functions are functions that can take other functions \n",
    "as arguments or return functions as results.\n",
    "They are a fundamental concept in functional programming \n",
    "and can be used to create more abstract and reusable code."
   ]
  },
  {
   "cell_type": "code",
   "execution_count": 6,
   "id": "31120fb0-6ef7-44e0-b040-b704176e7a23",
   "metadata": {},
   "outputs": [
    {
     "name": "stdout",
     "output_type": "stream",
     "text": [
      "[1, 4, 9, 16, 25]\n"
     ]
    }
   ],
   "source": [
    "def square(x):\n",
    "    return x * x\n",
    "\n",
    "numbers = [1, 2, 3, 4, 5]\n",
    "squared_numbers = map(square, numbers)\n",
    "\n",
    "print(list(squared_numbers))  # Output: [1, 4, 9, 16, 25]\n"
   ]
  },
  {
   "cell_type": "code",
   "execution_count": null,
   "id": "2983c890-d9ea-4087-88d5-b79ecacc6f64",
   "metadata": {},
   "outputs": [],
   "source": [
    "4.Create a Python function that takes a list of numbers and a function as arguments, \n",
    "applying the function to each element in the list."
   ]
  },
  {
   "cell_type": "code",
   "execution_count": 8,
   "id": "bf91cf21-d58a-4cd5-80d0-2603a6428da5",
   "metadata": {},
   "outputs": [
    {
     "name": "stdout",
     "output_type": "stream",
     "text": [
      "[1, 4, 9, 16, 25]\n"
     ]
    }
   ],
   "source": [
    "def apply_function_to_list(numbers, func):\n",
    "    \n",
    "    return [func(x) for x in numbers]\n",
    "\n",
    "# Example function to apply\n",
    "def square(x):\n",
    "    return x * x\n",
    "\n",
    "# Example usage\n",
    "numbers = [1, 2, 3, 4, 5]\n",
    "result = apply_function_to_list(numbers, square)\n",
    "print(result)  # Output: [1, 4, 9, 16, 25]\n"
   ]
  },
  {
   "cell_type": "code",
   "execution_count": null,
   "id": "691f96ea-dc90-4978-9f47-17b1d10fedfb",
   "metadata": {},
   "outputs": [],
   "source": []
  },
  {
   "cell_type": "code",
   "execution_count": null,
   "id": "e7af778c-5c3f-4e00-ac70-c3a3b368e2ba",
   "metadata": {},
   "outputs": [],
   "source": [
    "Built-in Functions:"
   ]
  },
  {
   "cell_type": "code",
   "execution_count": null,
   "id": "d50889fd-fd58-44b5-ab6f-c3ec110ee565",
   "metadata": {},
   "outputs": [],
   "source": [
    "1.Describe the role of built-in functions like `len()`, `max()`, and `min()` in Python."
   ]
  },
  {
   "cell_type": "code",
   "execution_count": null,
   "id": "0d86e6e3-2eda-4615-a567-375ae013c0a1",
   "metadata": {},
   "outputs": [],
   "source": [
    "The len() function returns the number of items in an object.\n",
    "The max() function returns the largest item from an iterable or the largest of two or more arguments.\n",
    "The min() function returns the smallest item from an iterable or the smallest of two or more arguments."
   ]
  },
  {
   "cell_type": "markdown",
   "id": "da109038-ca50-4144-bb8e-4d03fb9ba0bc",
   "metadata": {},
   "source": [
    "2.Write a Python program that uses the `map()` function to apply a function to each element of a list."
   ]
  },
  {
   "cell_type": "code",
   "execution_count": 9,
   "id": "4d8d597c-42bf-4c25-8b55-29f8032b21d9",
   "metadata": {},
   "outputs": [
    {
     "name": "stdout",
     "output_type": "stream",
     "text": [
      "[1, 4, 9, 16, 25]\n"
     ]
    }
   ],
   "source": [
    "# Define a function to apply\n",
    "def square(x):\n",
    "    return x * x\n",
    "\n",
    "# List of numbers\n",
    "numbers = [1, 2, 3, 4, 5]\n",
    "\n",
    "# Use the map() function to apply 'square' to each element of the list\n",
    "squared_numbers = map(square, numbers)\n",
    "\n",
    "# Convert the map object to a list and print it\n",
    "print(list(squared_numbers))  # Output: [1, 4, 9, 16, 25]\n"
   ]
  },
  {
   "cell_type": "code",
   "execution_count": null,
   "id": "4fead1e3-d035-4c5d-abef-1ceb28e41d68",
   "metadata": {},
   "outputs": [],
   "source": [
    "3.How does the `filter()` function work in Python, and when would you use it?"
   ]
  },
  {
   "cell_type": "code",
   "execution_count": null,
   "id": "bdbb55ba-6351-4159-bbda-d2422b6fdb33",
   "metadata": {},
   "outputs": [],
   "source": [
    "The filter() function in Python is used to filter elements of an iterable based on a function\n",
    "that returns True or False. It is a higher-order function that constructs \n",
    "an iterator from elements of an iterable for which the function returns True."
   ]
  },
  {
   "cell_type": "code",
   "execution_count": null,
   "id": "3fb20a20-879c-45ee-898f-c3c54ce0b27b",
   "metadata": {},
   "outputs": [],
   "source": [
    "4.Create a Python program that uses the `reduce()` function to find the product of all elements in a list."
   ]
  },
  {
   "cell_type": "code",
   "execution_count": 11,
   "id": "f8b93cbb-9e84-428c-b333-9efec5ebc845",
   "metadata": {},
   "outputs": [
    {
     "name": "stdout",
     "output_type": "stream",
     "text": [
      "720\n"
     ]
    }
   ],
   "source": [
    "from functools import reduce\n",
    "\n",
    "# Define a function that multiplies two numbers\n",
    "def multiply(x, y):\n",
    "    return x * y\n",
    "\n",
    "# List of numbers\n",
    "numbers = [1, 2, 3, 4, 5,6]\n",
    "\n",
    "# Use reduce() to apply the multiply function cumulatively to the list\n",
    "product = reduce(multiply, numbers)\n",
    "\n",
    "# Print the result\n",
    "print(product)  # Output: 120\n"
   ]
  },
  {
   "cell_type": "code",
   "execution_count": null,
   "id": "19a5389c-4684-445f-89d2-0790c0ec42df",
   "metadata": {},
   "outputs": [],
   "source": []
  },
  {
   "cell_type": "code",
   "execution_count": null,
   "id": "d9d9c092-5c5a-407f-ad96-6493fa739b63",
   "metadata": {},
   "outputs": [],
   "source": [
    "Function Documentation and Best Practices:"
   ]
  },
  {
   "cell_type": "code",
   "execution_count": null,
   "id": "559bf6cb-f222-4634-89b4-5a688e8f7b1f",
   "metadata": {},
   "outputs": [],
   "source": [
    "1.Explain the purpose of docstrings in Python functions and how to write them."
   ]
  },
  {
   "cell_type": "code",
   "execution_count": null,
   "id": "00810940-c909-43e0-b67e-100e32d7b021",
   "metadata": {},
   "outputs": [],
   "source": [
    "Docstrings, or documentation strings, in Python are special strings used to document the purpose\n",
    "and usage of a function, class, or module.\n",
    "They are essential for creating readable and maintainable code by providing \n",
    "an explanation of what the function does, its parameters, and its return value.\n",
    "\n",
    "Purpose of Docstrings\n",
    "Documentation: Provide a clear explanation of the function’s purpose and how it should be used.\n",
    "Maintainability: Help others (or yourself) understand the code when revisiting it later.\n",
    "Integrated Help: Allow tools like help() in Python and documentation generators (e.g., Sphinx)\n",
    "to automatically extract and display documentation."
   ]
  },
  {
   "cell_type": "code",
   "execution_count": null,
   "id": "08c332d3-9b7a-48cd-84a7-956763d31409",
   "metadata": {},
   "outputs": [],
   "source": [
    "3.Describe some best practices for naming functions and \n",
    "variables in Python, including naming conventions and guidelines."
   ]
  },
  {
   "cell_type": "code",
   "execution_count": null,
   "id": "09407a22-0c30-4573-b623-304ec5f68043",
   "metadata": {},
   "outputs": [],
   "source": [
    "Functions: Choose names that clearly describe what the function does.\n",
    "For example, calculate_total_price() is better than calc().\n",
    "Variables: Names should reflect the data they hold.\n",
    "For instance, number_of_students is more descriptive than n.\n",
    "\n"
   ]
  }
 ],
 "metadata": {
  "kernelspec": {
   "display_name": "Python 3 (ipykernel)",
   "language": "python",
   "name": "python3"
  },
  "language_info": {
   "codemirror_mode": {
    "name": "ipython",
    "version": 3
   },
   "file_extension": ".py",
   "mimetype": "text/x-python",
   "name": "python",
   "nbconvert_exporter": "python",
   "pygments_lexer": "ipython3",
   "version": "3.10.8"
  }
 },
 "nbformat": 4,
 "nbformat_minor": 5
}
